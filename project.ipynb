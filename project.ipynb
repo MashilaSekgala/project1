{
 "cells": [
  {
   "cell_type": "code",
   "execution_count": 1,
   "id": "e3902ef1",
   "metadata": {},
   "outputs": [],
   "source": [
    "import pandas as pd\n",
    "import numpy as np"
   ]
  },
  {
   "cell_type": "code",
   "execution_count": 66,
   "id": "07b185e5",
   "metadata": {},
   "outputs": [
    {
     "name": "stderr",
     "output_type": "stream",
     "text": [
      "C:\\Users\\User\\AppData\\Local\\Temp\\ipykernel_18644\\46818961.py:2: DtypeWarning: Columns (25) have mixed types. Specify dtype option on import or set low_memory=False.\n",
      "  df = pd.read_csv('C:/Users/User/Desktop/Datasets Portfolio/Airbnb_Open_Data.csv')\n"
     ]
    }
   ],
   "source": [
    "#import data from a csv file\n",
    "df = pd.read_csv('C:/Users/User/Desktop/Datasets Portfolio/Airbnb_Open_Data.csv')"
   ]
  },
  {
   "cell_type": "code",
   "execution_count": 10,
   "id": "b2a66907",
   "metadata": {},
   "outputs": [
    {
     "data": {
      "text/html": [
       "<div>\n",
       "<style scoped>\n",
       "    .dataframe tbody tr th:only-of-type {\n",
       "        vertical-align: middle;\n",
       "    }\n",
       "\n",
       "    .dataframe tbody tr th {\n",
       "        vertical-align: top;\n",
       "    }\n",
       "\n",
       "    .dataframe thead th {\n",
       "        text-align: right;\n",
       "    }\n",
       "</style>\n",
       "<table border=\"1\" class=\"dataframe\">\n",
       "  <thead>\n",
       "    <tr style=\"text-align: right;\">\n",
       "      <th></th>\n",
       "      <th>id</th>\n",
       "      <th>NAME</th>\n",
       "      <th>host id</th>\n",
       "      <th>host_identity_verified</th>\n",
       "      <th>host name</th>\n",
       "      <th>neighbourhood group</th>\n",
       "      <th>neighbourhood</th>\n",
       "      <th>lat</th>\n",
       "      <th>long</th>\n",
       "      <th>country</th>\n",
       "      <th>...</th>\n",
       "      <th>service fee</th>\n",
       "      <th>minimum nights</th>\n",
       "      <th>number of reviews</th>\n",
       "      <th>last review</th>\n",
       "      <th>reviews per month</th>\n",
       "      <th>review rate number</th>\n",
       "      <th>calculated host listings count</th>\n",
       "      <th>availability 365</th>\n",
       "      <th>house_rules</th>\n",
       "      <th>license</th>\n",
       "    </tr>\n",
       "  </thead>\n",
       "  <tbody>\n",
       "    <tr>\n",
       "      <th>0</th>\n",
       "      <td>1001254</td>\n",
       "      <td>Clean &amp; quiet apt home by the park</td>\n",
       "      <td>80014485718</td>\n",
       "      <td>unconfirmed</td>\n",
       "      <td>Madaline</td>\n",
       "      <td>Brooklyn</td>\n",
       "      <td>Kensington</td>\n",
       "      <td>40.64749</td>\n",
       "      <td>-73.97237</td>\n",
       "      <td>United States</td>\n",
       "      <td>...</td>\n",
       "      <td>$193</td>\n",
       "      <td>10.0</td>\n",
       "      <td>9.0</td>\n",
       "      <td>10/19/2021</td>\n",
       "      <td>0.21</td>\n",
       "      <td>4.0</td>\n",
       "      <td>6.0</td>\n",
       "      <td>286.0</td>\n",
       "      <td>Clean up and treat the home the way you'd like...</td>\n",
       "      <td>NaN</td>\n",
       "    </tr>\n",
       "    <tr>\n",
       "      <th>1</th>\n",
       "      <td>1002102</td>\n",
       "      <td>Skylit Midtown Castle</td>\n",
       "      <td>52335172823</td>\n",
       "      <td>verified</td>\n",
       "      <td>Jenna</td>\n",
       "      <td>Manhattan</td>\n",
       "      <td>Midtown</td>\n",
       "      <td>40.75362</td>\n",
       "      <td>-73.98377</td>\n",
       "      <td>United States</td>\n",
       "      <td>...</td>\n",
       "      <td>$28</td>\n",
       "      <td>30.0</td>\n",
       "      <td>45.0</td>\n",
       "      <td>5/21/2022</td>\n",
       "      <td>0.38</td>\n",
       "      <td>4.0</td>\n",
       "      <td>2.0</td>\n",
       "      <td>228.0</td>\n",
       "      <td>Pet friendly but please confirm with me if the...</td>\n",
       "      <td>NaN</td>\n",
       "    </tr>\n",
       "    <tr>\n",
       "      <th>2</th>\n",
       "      <td>1002403</td>\n",
       "      <td>THE VILLAGE OF HARLEM....NEW YORK !</td>\n",
       "      <td>78829239556</td>\n",
       "      <td>NaN</td>\n",
       "      <td>Elise</td>\n",
       "      <td>Manhattan</td>\n",
       "      <td>Harlem</td>\n",
       "      <td>40.80902</td>\n",
       "      <td>-73.94190</td>\n",
       "      <td>United States</td>\n",
       "      <td>...</td>\n",
       "      <td>$124</td>\n",
       "      <td>3.0</td>\n",
       "      <td>0.0</td>\n",
       "      <td>NaN</td>\n",
       "      <td>NaN</td>\n",
       "      <td>5.0</td>\n",
       "      <td>1.0</td>\n",
       "      <td>352.0</td>\n",
       "      <td>I encourage you to use my kitchen, cooking and...</td>\n",
       "      <td>NaN</td>\n",
       "    </tr>\n",
       "    <tr>\n",
       "      <th>3</th>\n",
       "      <td>1002755</td>\n",
       "      <td>NaN</td>\n",
       "      <td>85098326012</td>\n",
       "      <td>unconfirmed</td>\n",
       "      <td>Garry</td>\n",
       "      <td>Brooklyn</td>\n",
       "      <td>Clinton Hill</td>\n",
       "      <td>40.68514</td>\n",
       "      <td>-73.95976</td>\n",
       "      <td>United States</td>\n",
       "      <td>...</td>\n",
       "      <td>$74</td>\n",
       "      <td>30.0</td>\n",
       "      <td>270.0</td>\n",
       "      <td>7/5/2019</td>\n",
       "      <td>4.64</td>\n",
       "      <td>4.0</td>\n",
       "      <td>1.0</td>\n",
       "      <td>322.0</td>\n",
       "      <td>NaN</td>\n",
       "      <td>NaN</td>\n",
       "    </tr>\n",
       "    <tr>\n",
       "      <th>4</th>\n",
       "      <td>1003689</td>\n",
       "      <td>Entire Apt: Spacious Studio/Loft by central park</td>\n",
       "      <td>92037596077</td>\n",
       "      <td>verified</td>\n",
       "      <td>Lyndon</td>\n",
       "      <td>Manhattan</td>\n",
       "      <td>East Harlem</td>\n",
       "      <td>40.79851</td>\n",
       "      <td>-73.94399</td>\n",
       "      <td>United States</td>\n",
       "      <td>...</td>\n",
       "      <td>$41</td>\n",
       "      <td>10.0</td>\n",
       "      <td>9.0</td>\n",
       "      <td>11/19/2018</td>\n",
       "      <td>0.10</td>\n",
       "      <td>3.0</td>\n",
       "      <td>1.0</td>\n",
       "      <td>289.0</td>\n",
       "      <td>Please no smoking in the house, porch or on th...</td>\n",
       "      <td>NaN</td>\n",
       "    </tr>\n",
       "    <tr>\n",
       "      <th>...</th>\n",
       "      <td>...</td>\n",
       "      <td>...</td>\n",
       "      <td>...</td>\n",
       "      <td>...</td>\n",
       "      <td>...</td>\n",
       "      <td>...</td>\n",
       "      <td>...</td>\n",
       "      <td>...</td>\n",
       "      <td>...</td>\n",
       "      <td>...</td>\n",
       "      <td>...</td>\n",
       "      <td>...</td>\n",
       "      <td>...</td>\n",
       "      <td>...</td>\n",
       "      <td>...</td>\n",
       "      <td>...</td>\n",
       "      <td>...</td>\n",
       "      <td>...</td>\n",
       "      <td>...</td>\n",
       "      <td>...</td>\n",
       "      <td>...</td>\n",
       "    </tr>\n",
       "    <tr>\n",
       "      <th>102594</th>\n",
       "      <td>6092437</td>\n",
       "      <td>Spare room in Williamsburg</td>\n",
       "      <td>12312296767</td>\n",
       "      <td>verified</td>\n",
       "      <td>Krik</td>\n",
       "      <td>Brooklyn</td>\n",
       "      <td>Williamsburg</td>\n",
       "      <td>40.70862</td>\n",
       "      <td>-73.94651</td>\n",
       "      <td>United States</td>\n",
       "      <td>...</td>\n",
       "      <td>$169</td>\n",
       "      <td>1.0</td>\n",
       "      <td>0.0</td>\n",
       "      <td>NaN</td>\n",
       "      <td>NaN</td>\n",
       "      <td>3.0</td>\n",
       "      <td>1.0</td>\n",
       "      <td>227.0</td>\n",
       "      <td>No Smoking No Parties or Events of any kind Pl...</td>\n",
       "      <td>NaN</td>\n",
       "    </tr>\n",
       "    <tr>\n",
       "      <th>102595</th>\n",
       "      <td>6092990</td>\n",
       "      <td>Best Location near Columbia U</td>\n",
       "      <td>77864383453</td>\n",
       "      <td>unconfirmed</td>\n",
       "      <td>Mifan</td>\n",
       "      <td>Manhattan</td>\n",
       "      <td>Morningside Heights</td>\n",
       "      <td>40.80460</td>\n",
       "      <td>-73.96545</td>\n",
       "      <td>United States</td>\n",
       "      <td>...</td>\n",
       "      <td>$167</td>\n",
       "      <td>1.0</td>\n",
       "      <td>1.0</td>\n",
       "      <td>7/6/2015</td>\n",
       "      <td>0.02</td>\n",
       "      <td>2.0</td>\n",
       "      <td>2.0</td>\n",
       "      <td>395.0</td>\n",
       "      <td>House rules: Guests agree to the following ter...</td>\n",
       "      <td>NaN</td>\n",
       "    </tr>\n",
       "    <tr>\n",
       "      <th>102596</th>\n",
       "      <td>6093542</td>\n",
       "      <td>Comfy, bright room in Brooklyn</td>\n",
       "      <td>69050334417</td>\n",
       "      <td>unconfirmed</td>\n",
       "      <td>Megan</td>\n",
       "      <td>Brooklyn</td>\n",
       "      <td>Park Slope</td>\n",
       "      <td>40.67505</td>\n",
       "      <td>-73.98045</td>\n",
       "      <td>United States</td>\n",
       "      <td>...</td>\n",
       "      <td>$198</td>\n",
       "      <td>3.0</td>\n",
       "      <td>0.0</td>\n",
       "      <td>NaN</td>\n",
       "      <td>NaN</td>\n",
       "      <td>5.0</td>\n",
       "      <td>1.0</td>\n",
       "      <td>342.0</td>\n",
       "      <td>NaN</td>\n",
       "      <td>NaN</td>\n",
       "    </tr>\n",
       "    <tr>\n",
       "      <th>102597</th>\n",
       "      <td>6094094</td>\n",
       "      <td>Big Studio-One Stop from Midtown</td>\n",
       "      <td>11160591270</td>\n",
       "      <td>unconfirmed</td>\n",
       "      <td>Christopher</td>\n",
       "      <td>Queens</td>\n",
       "      <td>Long Island City</td>\n",
       "      <td>40.74989</td>\n",
       "      <td>-73.93777</td>\n",
       "      <td>United States</td>\n",
       "      <td>...</td>\n",
       "      <td>$109</td>\n",
       "      <td>2.0</td>\n",
       "      <td>5.0</td>\n",
       "      <td>10/11/2015</td>\n",
       "      <td>0.10</td>\n",
       "      <td>3.0</td>\n",
       "      <td>1.0</td>\n",
       "      <td>386.0</td>\n",
       "      <td>NaN</td>\n",
       "      <td>NaN</td>\n",
       "    </tr>\n",
       "    <tr>\n",
       "      <th>102598</th>\n",
       "      <td>6094647</td>\n",
       "      <td>585 sf Luxury Studio</td>\n",
       "      <td>68170633372</td>\n",
       "      <td>unconfirmed</td>\n",
       "      <td>Rebecca</td>\n",
       "      <td>Manhattan</td>\n",
       "      <td>Upper West Side</td>\n",
       "      <td>40.76807</td>\n",
       "      <td>-73.98342</td>\n",
       "      <td>United States</td>\n",
       "      <td>...</td>\n",
       "      <td>$206</td>\n",
       "      <td>1.0</td>\n",
       "      <td>0.0</td>\n",
       "      <td>NaN</td>\n",
       "      <td>NaN</td>\n",
       "      <td>3.0</td>\n",
       "      <td>1.0</td>\n",
       "      <td>69.0</td>\n",
       "      <td>NaN</td>\n",
       "      <td>NaN</td>\n",
       "    </tr>\n",
       "  </tbody>\n",
       "</table>\n",
       "<p>102599 rows × 26 columns</p>\n",
       "</div>"
      ],
      "text/plain": [
       "             id                                              NAME  \\\n",
       "0       1001254                Clean & quiet apt home by the park   \n",
       "1       1002102                             Skylit Midtown Castle   \n",
       "2       1002403               THE VILLAGE OF HARLEM....NEW YORK !   \n",
       "3       1002755                                               NaN   \n",
       "4       1003689  Entire Apt: Spacious Studio/Loft by central park   \n",
       "...         ...                                               ...   \n",
       "102594  6092437                        Spare room in Williamsburg   \n",
       "102595  6092990                     Best Location near Columbia U   \n",
       "102596  6093542                    Comfy, bright room in Brooklyn   \n",
       "102597  6094094                  Big Studio-One Stop from Midtown   \n",
       "102598  6094647                              585 sf Luxury Studio   \n",
       "\n",
       "            host id host_identity_verified    host name neighbourhood group  \\\n",
       "0       80014485718            unconfirmed     Madaline            Brooklyn   \n",
       "1       52335172823               verified        Jenna           Manhattan   \n",
       "2       78829239556                    NaN        Elise           Manhattan   \n",
       "3       85098326012            unconfirmed        Garry            Brooklyn   \n",
       "4       92037596077               verified       Lyndon           Manhattan   \n",
       "...             ...                    ...          ...                 ...   \n",
       "102594  12312296767               verified         Krik            Brooklyn   \n",
       "102595  77864383453            unconfirmed        Mifan           Manhattan   \n",
       "102596  69050334417            unconfirmed        Megan            Brooklyn   \n",
       "102597  11160591270            unconfirmed  Christopher              Queens   \n",
       "102598  68170633372            unconfirmed      Rebecca           Manhattan   \n",
       "\n",
       "              neighbourhood       lat      long        country  ...  \\\n",
       "0                Kensington  40.64749 -73.97237  United States  ...   \n",
       "1                   Midtown  40.75362 -73.98377  United States  ...   \n",
       "2                    Harlem  40.80902 -73.94190  United States  ...   \n",
       "3              Clinton Hill  40.68514 -73.95976  United States  ...   \n",
       "4               East Harlem  40.79851 -73.94399  United States  ...   \n",
       "...                     ...       ...       ...            ...  ...   \n",
       "102594         Williamsburg  40.70862 -73.94651  United States  ...   \n",
       "102595  Morningside Heights  40.80460 -73.96545  United States  ...   \n",
       "102596           Park Slope  40.67505 -73.98045  United States  ...   \n",
       "102597     Long Island City  40.74989 -73.93777  United States  ...   \n",
       "102598      Upper West Side  40.76807 -73.98342  United States  ...   \n",
       "\n",
       "       service fee minimum nights number of reviews last review  \\\n",
       "0            $193            10.0               9.0  10/19/2021   \n",
       "1             $28            30.0              45.0   5/21/2022   \n",
       "2            $124             3.0               0.0         NaN   \n",
       "3             $74            30.0             270.0    7/5/2019   \n",
       "4             $41            10.0               9.0  11/19/2018   \n",
       "...            ...            ...               ...         ...   \n",
       "102594       $169             1.0               0.0         NaN   \n",
       "102595       $167             1.0               1.0    7/6/2015   \n",
       "102596       $198             3.0               0.0         NaN   \n",
       "102597       $109             2.0               5.0  10/11/2015   \n",
       "102598       $206             1.0               0.0         NaN   \n",
       "\n",
       "        reviews per month review rate number calculated host listings count  \\\n",
       "0                    0.21                4.0                            6.0   \n",
       "1                    0.38                4.0                            2.0   \n",
       "2                     NaN                5.0                            1.0   \n",
       "3                    4.64                4.0                            1.0   \n",
       "4                    0.10                3.0                            1.0   \n",
       "...                   ...                ...                            ...   \n",
       "102594                NaN                3.0                            1.0   \n",
       "102595               0.02                2.0                            2.0   \n",
       "102596                NaN                5.0                            1.0   \n",
       "102597               0.10                3.0                            1.0   \n",
       "102598                NaN                3.0                            1.0   \n",
       "\n",
       "        availability 365                                        house_rules  \\\n",
       "0                  286.0  Clean up and treat the home the way you'd like...   \n",
       "1                  228.0  Pet friendly but please confirm with me if the...   \n",
       "2                  352.0  I encourage you to use my kitchen, cooking and...   \n",
       "3                  322.0                                                NaN   \n",
       "4                  289.0  Please no smoking in the house, porch or on th...   \n",
       "...                  ...                                                ...   \n",
       "102594             227.0  No Smoking No Parties or Events of any kind Pl...   \n",
       "102595             395.0  House rules: Guests agree to the following ter...   \n",
       "102596             342.0                                                NaN   \n",
       "102597             386.0                                                NaN   \n",
       "102598              69.0                                                NaN   \n",
       "\n",
       "       license  \n",
       "0          NaN  \n",
       "1          NaN  \n",
       "2          NaN  \n",
       "3          NaN  \n",
       "4          NaN  \n",
       "...        ...  \n",
       "102594     NaN  \n",
       "102595     NaN  \n",
       "102596     NaN  \n",
       "102597     NaN  \n",
       "102598     NaN  \n",
       "\n",
       "[102599 rows x 26 columns]"
      ]
     },
     "execution_count": 10,
     "metadata": {},
     "output_type": "execute_result"
    }
   ],
   "source": [
    "df"
   ]
  },
  {
   "cell_type": "code",
   "execution_count": 67,
   "id": "3a37b5c6",
   "metadata": {},
   "outputs": [
    {
     "name": "stdout",
     "output_type": "stream",
     "text": [
      "id\n",
      "False    102599\n",
      "Name: id, dtype: int64\n",
      " \n",
      "NAME\n",
      "False    102349\n",
      "True        250\n",
      "Name: NAME, dtype: int64\n",
      " \n",
      "host id\n",
      "False    102599\n",
      "Name: host id, dtype: int64\n",
      " \n",
      "host_identity_verified\n",
      "False    102310\n",
      "True        289\n",
      "Name: host_identity_verified, dtype: int64\n",
      " \n",
      "host name\n",
      "False    102193\n",
      "True        406\n",
      "Name: host name, dtype: int64\n",
      " \n",
      "neighbourhood group\n",
      "False    102570\n",
      "True         29\n",
      "Name: neighbourhood group, dtype: int64\n",
      " \n",
      "neighbourhood\n",
      "False    102583\n",
      "True         16\n",
      "Name: neighbourhood, dtype: int64\n",
      " \n",
      "lat\n",
      "False    102591\n",
      "True          8\n",
      "Name: lat, dtype: int64\n",
      " \n",
      "long\n",
      "False    102591\n",
      "True          8\n",
      "Name: long, dtype: int64\n",
      " \n",
      "country\n",
      "False    102067\n",
      "True        532\n",
      "Name: country, dtype: int64\n",
      " \n",
      "country code\n",
      "False    102468\n",
      "True        131\n",
      "Name: country code, dtype: int64\n",
      " \n",
      "instant_bookable\n",
      "False    102494\n",
      "True        105\n",
      "Name: instant_bookable, dtype: int64\n",
      " \n",
      "cancellation_policy\n",
      "False    102523\n",
      "True         76\n",
      "Name: cancellation_policy, dtype: int64\n",
      " \n",
      "room type\n",
      "False    102599\n",
      "Name: room type, dtype: int64\n",
      " \n",
      "Construction year\n",
      "False    102385\n",
      "True        214\n",
      "Name: Construction year, dtype: int64\n",
      " \n",
      "price\n",
      "False    102352\n",
      "True        247\n",
      "Name: price, dtype: int64\n",
      " \n",
      "service fee\n",
      "False    102326\n",
      "True        273\n",
      "Name: service fee, dtype: int64\n",
      " \n",
      "minimum nights\n",
      "False    102190\n",
      "True        409\n",
      "Name: minimum nights, dtype: int64\n",
      " \n",
      "number of reviews\n",
      "False    102416\n",
      "True        183\n",
      "Name: number of reviews, dtype: int64\n",
      " \n",
      "last review\n",
      "False    86706\n",
      "True     15893\n",
      "Name: last review, dtype: int64\n",
      " \n",
      "reviews per month\n",
      "False    86720\n",
      "True     15879\n",
      "Name: reviews per month, dtype: int64\n",
      " \n",
      "review rate number\n",
      "False    102273\n",
      "True        326\n",
      "Name: review rate number, dtype: int64\n",
      " \n",
      "calculated host listings count\n",
      "False    102280\n",
      "True        319\n",
      "Name: calculated host listings count, dtype: int64\n",
      " \n",
      "availability 365\n",
      "False    102151\n",
      "True        448\n",
      "Name: availability 365, dtype: int64\n",
      " \n",
      "house_rules\n",
      "True     52131\n",
      "False    50468\n",
      "Name: house_rules, dtype: int64\n",
      " \n",
      "license\n",
      "True     102597\n",
      "False         2\n",
      "Name: license, dtype: int64\n",
      " \n"
     ]
    }
   ],
   "source": [
    "#Cleaning the data\n",
    "missing_data = df.isnull()\n",
    "\n",
    "#using a loop to count missing data for each variable/observation\n",
    "for column in missing_data:\n",
    "    print(column)\n",
    "    print(missing_data[column].value_counts()) \n",
    "    print(' ')"
   ]
  },
  {
   "cell_type": "code",
   "execution_count": 68,
   "id": "8b62b2aa",
   "metadata": {},
   "outputs": [
    {
     "data": {
      "text/html": [
       "<div>\n",
       "<style scoped>\n",
       "    .dataframe tbody tr th:only-of-type {\n",
       "        vertical-align: middle;\n",
       "    }\n",
       "\n",
       "    .dataframe tbody tr th {\n",
       "        vertical-align: top;\n",
       "    }\n",
       "\n",
       "    .dataframe thead th {\n",
       "        text-align: right;\n",
       "    }\n",
       "</style>\n",
       "<table border=\"1\" class=\"dataframe\">\n",
       "  <thead>\n",
       "    <tr style=\"text-align: right;\">\n",
       "      <th></th>\n",
       "      <th>id</th>\n",
       "      <th>NAME</th>\n",
       "      <th>host id</th>\n",
       "      <th>host_identity_verified</th>\n",
       "      <th>host name</th>\n",
       "      <th>neighbourhood group</th>\n",
       "      <th>neighbourhood</th>\n",
       "      <th>country</th>\n",
       "      <th>country code</th>\n",
       "      <th>instant_bookable</th>\n",
       "      <th>...</th>\n",
       "      <th>service fee</th>\n",
       "      <th>minimum nights</th>\n",
       "      <th>number of reviews</th>\n",
       "      <th>last review</th>\n",
       "      <th>reviews per month</th>\n",
       "      <th>review rate number</th>\n",
       "      <th>calculated host listings count</th>\n",
       "      <th>availability 365</th>\n",
       "      <th>house_rules</th>\n",
       "      <th>license</th>\n",
       "    </tr>\n",
       "  </thead>\n",
       "  <tbody>\n",
       "    <tr>\n",
       "      <th>0</th>\n",
       "      <td>1001254</td>\n",
       "      <td>Clean &amp; quiet apt home by the park</td>\n",
       "      <td>80014485718</td>\n",
       "      <td>unconfirmed</td>\n",
       "      <td>Madaline</td>\n",
       "      <td>Brooklyn</td>\n",
       "      <td>Kensington</td>\n",
       "      <td>United States</td>\n",
       "      <td>US</td>\n",
       "      <td>False</td>\n",
       "      <td>...</td>\n",
       "      <td>$193</td>\n",
       "      <td>10.0</td>\n",
       "      <td>9.0</td>\n",
       "      <td>10/19/2021</td>\n",
       "      <td>0.21</td>\n",
       "      <td>4.0</td>\n",
       "      <td>6.0</td>\n",
       "      <td>286.0</td>\n",
       "      <td>Clean up and treat the home the way you'd like...</td>\n",
       "      <td>NaN</td>\n",
       "    </tr>\n",
       "    <tr>\n",
       "      <th>1</th>\n",
       "      <td>1002102</td>\n",
       "      <td>Skylit Midtown Castle</td>\n",
       "      <td>52335172823</td>\n",
       "      <td>verified</td>\n",
       "      <td>Jenna</td>\n",
       "      <td>Manhattan</td>\n",
       "      <td>Midtown</td>\n",
       "      <td>United States</td>\n",
       "      <td>US</td>\n",
       "      <td>False</td>\n",
       "      <td>...</td>\n",
       "      <td>$28</td>\n",
       "      <td>30.0</td>\n",
       "      <td>45.0</td>\n",
       "      <td>5/21/2022</td>\n",
       "      <td>0.38</td>\n",
       "      <td>4.0</td>\n",
       "      <td>2.0</td>\n",
       "      <td>228.0</td>\n",
       "      <td>Pet friendly but please confirm with me if the...</td>\n",
       "      <td>NaN</td>\n",
       "    </tr>\n",
       "    <tr>\n",
       "      <th>2</th>\n",
       "      <td>1002403</td>\n",
       "      <td>THE VILLAGE OF HARLEM....NEW YORK !</td>\n",
       "      <td>78829239556</td>\n",
       "      <td>NaN</td>\n",
       "      <td>Elise</td>\n",
       "      <td>Manhattan</td>\n",
       "      <td>Harlem</td>\n",
       "      <td>United States</td>\n",
       "      <td>US</td>\n",
       "      <td>True</td>\n",
       "      <td>...</td>\n",
       "      <td>$124</td>\n",
       "      <td>3.0</td>\n",
       "      <td>0.0</td>\n",
       "      <td>NaN</td>\n",
       "      <td>NaN</td>\n",
       "      <td>5.0</td>\n",
       "      <td>1.0</td>\n",
       "      <td>352.0</td>\n",
       "      <td>I encourage you to use my kitchen, cooking and...</td>\n",
       "      <td>NaN</td>\n",
       "    </tr>\n",
       "    <tr>\n",
       "      <th>3</th>\n",
       "      <td>1002755</td>\n",
       "      <td>NaN</td>\n",
       "      <td>85098326012</td>\n",
       "      <td>unconfirmed</td>\n",
       "      <td>Garry</td>\n",
       "      <td>Brooklyn</td>\n",
       "      <td>Clinton Hill</td>\n",
       "      <td>United States</td>\n",
       "      <td>US</td>\n",
       "      <td>True</td>\n",
       "      <td>...</td>\n",
       "      <td>$74</td>\n",
       "      <td>30.0</td>\n",
       "      <td>270.0</td>\n",
       "      <td>7/5/2019</td>\n",
       "      <td>4.64</td>\n",
       "      <td>4.0</td>\n",
       "      <td>1.0</td>\n",
       "      <td>322.0</td>\n",
       "      <td>NaN</td>\n",
       "      <td>NaN</td>\n",
       "    </tr>\n",
       "    <tr>\n",
       "      <th>4</th>\n",
       "      <td>1003689</td>\n",
       "      <td>Entire Apt: Spacious Studio/Loft by central park</td>\n",
       "      <td>92037596077</td>\n",
       "      <td>verified</td>\n",
       "      <td>Lyndon</td>\n",
       "      <td>Manhattan</td>\n",
       "      <td>East Harlem</td>\n",
       "      <td>United States</td>\n",
       "      <td>US</td>\n",
       "      <td>False</td>\n",
       "      <td>...</td>\n",
       "      <td>$41</td>\n",
       "      <td>10.0</td>\n",
       "      <td>9.0</td>\n",
       "      <td>11/19/2018</td>\n",
       "      <td>0.10</td>\n",
       "      <td>3.0</td>\n",
       "      <td>1.0</td>\n",
       "      <td>289.0</td>\n",
       "      <td>Please no smoking in the house, porch or on th...</td>\n",
       "      <td>NaN</td>\n",
       "    </tr>\n",
       "    <tr>\n",
       "      <th>...</th>\n",
       "      <td>...</td>\n",
       "      <td>...</td>\n",
       "      <td>...</td>\n",
       "      <td>...</td>\n",
       "      <td>...</td>\n",
       "      <td>...</td>\n",
       "      <td>...</td>\n",
       "      <td>...</td>\n",
       "      <td>...</td>\n",
       "      <td>...</td>\n",
       "      <td>...</td>\n",
       "      <td>...</td>\n",
       "      <td>...</td>\n",
       "      <td>...</td>\n",
       "      <td>...</td>\n",
       "      <td>...</td>\n",
       "      <td>...</td>\n",
       "      <td>...</td>\n",
       "      <td>...</td>\n",
       "      <td>...</td>\n",
       "      <td>...</td>\n",
       "    </tr>\n",
       "    <tr>\n",
       "      <th>102594</th>\n",
       "      <td>6092437</td>\n",
       "      <td>Spare room in Williamsburg</td>\n",
       "      <td>12312296767</td>\n",
       "      <td>verified</td>\n",
       "      <td>Krik</td>\n",
       "      <td>Brooklyn</td>\n",
       "      <td>Williamsburg</td>\n",
       "      <td>United States</td>\n",
       "      <td>US</td>\n",
       "      <td>False</td>\n",
       "      <td>...</td>\n",
       "      <td>$169</td>\n",
       "      <td>1.0</td>\n",
       "      <td>0.0</td>\n",
       "      <td>NaN</td>\n",
       "      <td>NaN</td>\n",
       "      <td>3.0</td>\n",
       "      <td>1.0</td>\n",
       "      <td>227.0</td>\n",
       "      <td>No Smoking No Parties or Events of any kind Pl...</td>\n",
       "      <td>NaN</td>\n",
       "    </tr>\n",
       "    <tr>\n",
       "      <th>102595</th>\n",
       "      <td>6092990</td>\n",
       "      <td>Best Location near Columbia U</td>\n",
       "      <td>77864383453</td>\n",
       "      <td>unconfirmed</td>\n",
       "      <td>Mifan</td>\n",
       "      <td>Manhattan</td>\n",
       "      <td>Morningside Heights</td>\n",
       "      <td>United States</td>\n",
       "      <td>US</td>\n",
       "      <td>True</td>\n",
       "      <td>...</td>\n",
       "      <td>$167</td>\n",
       "      <td>1.0</td>\n",
       "      <td>1.0</td>\n",
       "      <td>7/6/2015</td>\n",
       "      <td>0.02</td>\n",
       "      <td>2.0</td>\n",
       "      <td>2.0</td>\n",
       "      <td>395.0</td>\n",
       "      <td>House rules: Guests agree to the following ter...</td>\n",
       "      <td>NaN</td>\n",
       "    </tr>\n",
       "    <tr>\n",
       "      <th>102596</th>\n",
       "      <td>6093542</td>\n",
       "      <td>Comfy, bright room in Brooklyn</td>\n",
       "      <td>69050334417</td>\n",
       "      <td>unconfirmed</td>\n",
       "      <td>Megan</td>\n",
       "      <td>Brooklyn</td>\n",
       "      <td>Park Slope</td>\n",
       "      <td>United States</td>\n",
       "      <td>US</td>\n",
       "      <td>True</td>\n",
       "      <td>...</td>\n",
       "      <td>$198</td>\n",
       "      <td>3.0</td>\n",
       "      <td>0.0</td>\n",
       "      <td>NaN</td>\n",
       "      <td>NaN</td>\n",
       "      <td>5.0</td>\n",
       "      <td>1.0</td>\n",
       "      <td>342.0</td>\n",
       "      <td>NaN</td>\n",
       "      <td>NaN</td>\n",
       "    </tr>\n",
       "    <tr>\n",
       "      <th>102597</th>\n",
       "      <td>6094094</td>\n",
       "      <td>Big Studio-One Stop from Midtown</td>\n",
       "      <td>11160591270</td>\n",
       "      <td>unconfirmed</td>\n",
       "      <td>Christopher</td>\n",
       "      <td>Queens</td>\n",
       "      <td>Long Island City</td>\n",
       "      <td>United States</td>\n",
       "      <td>US</td>\n",
       "      <td>True</td>\n",
       "      <td>...</td>\n",
       "      <td>$109</td>\n",
       "      <td>2.0</td>\n",
       "      <td>5.0</td>\n",
       "      <td>10/11/2015</td>\n",
       "      <td>0.10</td>\n",
       "      <td>3.0</td>\n",
       "      <td>1.0</td>\n",
       "      <td>386.0</td>\n",
       "      <td>NaN</td>\n",
       "      <td>NaN</td>\n",
       "    </tr>\n",
       "    <tr>\n",
       "      <th>102598</th>\n",
       "      <td>6094647</td>\n",
       "      <td>585 sf Luxury Studio</td>\n",
       "      <td>68170633372</td>\n",
       "      <td>unconfirmed</td>\n",
       "      <td>Rebecca</td>\n",
       "      <td>Manhattan</td>\n",
       "      <td>Upper West Side</td>\n",
       "      <td>United States</td>\n",
       "      <td>US</td>\n",
       "      <td>False</td>\n",
       "      <td>...</td>\n",
       "      <td>$206</td>\n",
       "      <td>1.0</td>\n",
       "      <td>0.0</td>\n",
       "      <td>NaN</td>\n",
       "      <td>NaN</td>\n",
       "      <td>3.0</td>\n",
       "      <td>1.0</td>\n",
       "      <td>69.0</td>\n",
       "      <td>NaN</td>\n",
       "      <td>NaN</td>\n",
       "    </tr>\n",
       "  </tbody>\n",
       "</table>\n",
       "<p>102599 rows × 24 columns</p>\n",
       "</div>"
      ],
      "text/plain": [
       "             id                                              NAME  \\\n",
       "0       1001254                Clean & quiet apt home by the park   \n",
       "1       1002102                             Skylit Midtown Castle   \n",
       "2       1002403               THE VILLAGE OF HARLEM....NEW YORK !   \n",
       "3       1002755                                               NaN   \n",
       "4       1003689  Entire Apt: Spacious Studio/Loft by central park   \n",
       "...         ...                                               ...   \n",
       "102594  6092437                        Spare room in Williamsburg   \n",
       "102595  6092990                     Best Location near Columbia U   \n",
       "102596  6093542                    Comfy, bright room in Brooklyn   \n",
       "102597  6094094                  Big Studio-One Stop from Midtown   \n",
       "102598  6094647                              585 sf Luxury Studio   \n",
       "\n",
       "            host id host_identity_verified    host name neighbourhood group  \\\n",
       "0       80014485718            unconfirmed     Madaline            Brooklyn   \n",
       "1       52335172823               verified        Jenna           Manhattan   \n",
       "2       78829239556                    NaN        Elise           Manhattan   \n",
       "3       85098326012            unconfirmed        Garry            Brooklyn   \n",
       "4       92037596077               verified       Lyndon           Manhattan   \n",
       "...             ...                    ...          ...                 ...   \n",
       "102594  12312296767               verified         Krik            Brooklyn   \n",
       "102595  77864383453            unconfirmed        Mifan           Manhattan   \n",
       "102596  69050334417            unconfirmed        Megan            Brooklyn   \n",
       "102597  11160591270            unconfirmed  Christopher              Queens   \n",
       "102598  68170633372            unconfirmed      Rebecca           Manhattan   \n",
       "\n",
       "              neighbourhood        country country code instant_bookable  ...  \\\n",
       "0                Kensington  United States           US            False  ...   \n",
       "1                   Midtown  United States           US            False  ...   \n",
       "2                    Harlem  United States           US             True  ...   \n",
       "3              Clinton Hill  United States           US             True  ...   \n",
       "4               East Harlem  United States           US            False  ...   \n",
       "...                     ...            ...          ...              ...  ...   \n",
       "102594         Williamsburg  United States           US            False  ...   \n",
       "102595  Morningside Heights  United States           US             True  ...   \n",
       "102596           Park Slope  United States           US             True  ...   \n",
       "102597     Long Island City  United States           US             True  ...   \n",
       "102598      Upper West Side  United States           US            False  ...   \n",
       "\n",
       "       service fee minimum nights  number of reviews last review  \\\n",
       "0            $193            10.0                9.0  10/19/2021   \n",
       "1             $28            30.0               45.0   5/21/2022   \n",
       "2            $124             3.0                0.0         NaN   \n",
       "3             $74            30.0              270.0    7/5/2019   \n",
       "4             $41            10.0                9.0  11/19/2018   \n",
       "...            ...            ...                ...         ...   \n",
       "102594       $169             1.0                0.0         NaN   \n",
       "102595       $167             1.0                1.0    7/6/2015   \n",
       "102596       $198             3.0                0.0         NaN   \n",
       "102597       $109             2.0                5.0  10/11/2015   \n",
       "102598       $206             1.0                0.0         NaN   \n",
       "\n",
       "       reviews per month  review rate number  calculated host listings count  \\\n",
       "0                   0.21                 4.0                             6.0   \n",
       "1                   0.38                 4.0                             2.0   \n",
       "2                    NaN                 5.0                             1.0   \n",
       "3                   4.64                 4.0                             1.0   \n",
       "4                   0.10                 3.0                             1.0   \n",
       "...                  ...                 ...                             ...   \n",
       "102594               NaN                 3.0                             1.0   \n",
       "102595              0.02                 2.0                             2.0   \n",
       "102596               NaN                 5.0                             1.0   \n",
       "102597              0.10                 3.0                             1.0   \n",
       "102598               NaN                 3.0                             1.0   \n",
       "\n",
       "       availability 365                                        house_rules  \\\n",
       "0                 286.0  Clean up and treat the home the way you'd like...   \n",
       "1                 228.0  Pet friendly but please confirm with me if the...   \n",
       "2                 352.0  I encourage you to use my kitchen, cooking and...   \n",
       "3                 322.0                                                NaN   \n",
       "4                 289.0  Please no smoking in the house, porch or on th...   \n",
       "...                 ...                                                ...   \n",
       "102594            227.0  No Smoking No Parties or Events of any kind Pl...   \n",
       "102595            395.0  House rules: Guests agree to the following ter...   \n",
       "102596            342.0                                                NaN   \n",
       "102597            386.0                                                NaN   \n",
       "102598             69.0                                                NaN   \n",
       "\n",
       "        license  \n",
       "0           NaN  \n",
       "1           NaN  \n",
       "2           NaN  \n",
       "3           NaN  \n",
       "4           NaN  \n",
       "...         ...  \n",
       "102594      NaN  \n",
       "102595      NaN  \n",
       "102596      NaN  \n",
       "102597      NaN  \n",
       "102598      NaN  \n",
       "\n",
       "[102599 rows x 24 columns]"
      ]
     },
     "execution_count": 68,
     "metadata": {},
     "output_type": "execute_result"
    }
   ],
   "source": [
    "#p'itwDropping latitude and longitude observations as they are not\n",
    "df.drop(columns=['lat', 'long'], axis = 1)"
   ]
  },
  {
   "cell_type": "code",
   "execution_count": 32,
   "id": "5780d9b9",
   "metadata": {},
   "outputs": [
    {
     "data": {
      "text/plain": [
       "'Home away from home'"
      ]
     },
     "execution_count": 32,
     "metadata": {},
     "output_type": "execute_result"
    }
   ],
   "source": [
    "#Check if it is possible to replace null values with a common name\n",
    "df['NAME'].value_counts()"
   ]
  },
  {
   "cell_type": "code",
   "execution_count": 117,
   "id": "f9346d0f",
   "metadata": {},
   "outputs": [],
   "source": [
    "df.dropna(subset = ['NAME','host name', ], axis = 0, inplace = True)\n",
    "\n",
    "# reset index, because we dropped null valued rows\n",
    "df.reset_index(drop=True, inplace=True)"
   ]
  },
  {
   "cell_type": "code",
   "execution_count": 70,
   "id": "2edb8ae2",
   "metadata": {},
   "outputs": [
    {
     "data": {
      "text/plain": [
       "unconfirmed    50889\n",
       "verified       50784\n",
       "Name: host_identity_verified, dtype: int64"
      ]
     },
     "execution_count": 70,
     "metadata": {},
     "output_type": "execute_result"
    }
   ],
   "source": [
    "df['host_identity_verified'].value_counts()"
   ]
  },
  {
   "cell_type": "code",
   "execution_count": 71,
   "id": "a27d46a7",
   "metadata": {},
   "outputs": [
    {
     "name": "stdout",
     "output_type": "stream",
     "text": [
      "id\n",
      "False    101949\n",
      "Name: id, dtype: int64\n",
      " \n",
      "NAME\n",
      "False    101949\n",
      "Name: NAME, dtype: int64\n",
      " \n",
      "host id\n",
      "False    101949\n",
      "Name: host id, dtype: int64\n",
      " \n",
      "host_identity_verified\n",
      "False    101949\n",
      "Name: host_identity_verified, dtype: int64\n",
      " \n",
      "host name\n",
      "False    101949\n",
      "Name: host name, dtype: int64\n",
      " \n",
      "neighbourhood group\n",
      "False    101923\n",
      "True         26\n",
      "Name: neighbourhood group, dtype: int64\n",
      " \n",
      "neighbourhood\n",
      "False    101933\n",
      "True         16\n",
      "Name: neighbourhood, dtype: int64\n",
      " \n",
      "lat\n",
      "False    101941\n",
      "True          8\n",
      "Name: lat, dtype: int64\n",
      " \n",
      "long\n",
      "False    101941\n",
      "True          8\n",
      "Name: long, dtype: int64\n",
      " \n",
      "country\n",
      "False    101423\n",
      "True        526\n",
      "Name: country, dtype: int64\n",
      " \n",
      "country code\n",
      "False    101827\n",
      "True        122\n",
      "Name: country code, dtype: int64\n",
      " \n",
      "instant_bookable\n",
      "False    101853\n",
      "True         96\n",
      "Name: instant_bookable, dtype: int64\n",
      " \n",
      "cancellation_policy\n",
      "False    101879\n",
      "True         70\n",
      "Name: cancellation_policy, dtype: int64\n",
      " \n",
      "room type\n",
      "False    101949\n",
      "Name: room type, dtype: int64\n",
      " \n",
      "Construction year\n",
      "False    101749\n",
      "True        200\n",
      "Name: Construction year, dtype: int64\n",
      " \n",
      "price\n",
      "False    101710\n",
      "True        239\n",
      "Name: price, dtype: int64\n",
      " \n",
      "service fee\n",
      "False    101681\n",
      "True        268\n",
      "Name: service fee, dtype: int64\n",
      " \n",
      "minimum nights\n",
      "False    101546\n",
      "True        403\n",
      "Name: minimum nights, dtype: int64\n",
      " \n",
      "number of reviews\n",
      "False    101767\n",
      "True        182\n",
      "Name: number of reviews, dtype: int64\n",
      " \n",
      "last review\n",
      "False    86172\n",
      "True     15777\n",
      "Name: last review, dtype: int64\n",
      " \n",
      "reviews per month\n",
      "False    86186\n",
      "True     15763\n",
      "Name: reviews per month, dtype: int64\n",
      " \n",
      "review rate number\n",
      "False    101635\n",
      "True        314\n",
      "Name: review rate number, dtype: int64\n",
      " \n",
      "calculated host listings count\n",
      "False    101631\n",
      "True        318\n",
      "Name: calculated host listings count, dtype: int64\n",
      " \n",
      "availability 365\n",
      "False    101529\n",
      "True        420\n",
      "Name: availability 365, dtype: int64\n",
      " \n",
      "house_rules\n",
      "True     51867\n",
      "False    50082\n",
      "Name: house_rules, dtype: int64\n",
      " \n",
      "license\n",
      "True     101947\n",
      "False         2\n",
      "Name: license, dtype: int64\n",
      " \n"
     ]
    }
   ],
   "source": [
    "#Replace null valued observations with unconfirmed since it is common among the observation\n",
    "df['host_identity_verified'].replace(np.nan, 'unconfirmed', inplace = True)\n",
    "\n",
    "df['host_identity_verified'].value_counts()\n",
    "\n",
    "missing_dat = df.isnull()\n",
    "for column in missing_dat:\n",
    "    print(column)\n",
    "    print(missing_dat[column].value_counts()) \n",
    "    print(' ')"
   ]
  },
  {
   "cell_type": "code",
   "execution_count": 72,
   "id": "747829cb",
   "metadata": {},
   "outputs": [
    {
     "data": {
      "text/plain": [
       "Manhattan        43512\n",
       "Brooklyn         41574\n",
       "Queens           13190\n",
       "Bronx             2696\n",
       "Staten Island      949\n",
       "brookln              1\n",
       "manhatan             1\n",
       "Name: neighbourhood group, dtype: int64"
      ]
     },
     "execution_count": 72,
     "metadata": {},
     "output_type": "execute_result"
    }
   ],
   "source": [
    "df['neighbourhood group'].value_counts()"
   ]
  },
  {
   "cell_type": "code",
   "execution_count": 93,
   "id": "a3d5bfe9",
   "metadata": {},
   "outputs": [
    {
     "data": {
      "text/plain": [
       "Manhattan        43513\n",
       "Brooklyn         41575\n",
       "Queens           13190\n",
       "Bronx             2696\n",
       "Staten Island      949\n",
       "Name: neighbourhood group, dtype: int64"
      ]
     },
     "execution_count": 93,
     "metadata": {},
     "output_type": "execute_result"
    }
   ],
   "source": [
    "#replace the brookln and manhatan observation with the correct name spelling, renaming did not \n",
    "df['neighbourhood group'].replace('brookln','Brooklyn', inplace=True)\n",
    "df['neighbourhood group'].replace('manhatan','Manhattan', inplace=True)\n",
    "\n",
    "df['neighbourhood group'].value_counts()"
   ]
  },
  {
   "cell_type": "code",
   "execution_count": 91,
   "id": "9c20e549",
   "metadata": {},
   "outputs": [
    {
     "data": {
      "text/plain": [
       "Manhattan        43512\n",
       "Brooklyn         41574\n",
       "Queens           13190\n",
       "Bronx             2696\n",
       "Staten Island      949\n",
       "brookln              1\n",
       "manhatan             1\n",
       "Name: neighbourhood group, dtype: int64"
      ]
     },
     "execution_count": 91,
     "metadata": {},
     "output_type": "execute_result"
    }
   ],
   "source": [
    "df['neighbourhood group'].value_counts()"
   ]
  },
  {
   "cell_type": "code",
   "execution_count": 94,
   "id": "01427a9a",
   "metadata": {},
   "outputs": [],
   "source": [
    "df['neighbourhood group'].replace(np.nan, 'Manhattan', inplace=True)"
   ]
  },
  {
   "cell_type": "code",
   "execution_count": 95,
   "id": "27e1213f",
   "metadata": {},
   "outputs": [
    {
     "data": {
      "text/plain": [
       "Bedford-Stuyvesant        7886\n",
       "Williamsburg              7720\n",
       "Harlem                    5420\n",
       "Bushwick                  4954\n",
       "Hell's Kitchen            3938\n",
       "                          ... \n",
       "Willowbrook                  3\n",
       "Gerritsen Beach              3\n",
       "Fort Wadsworth               2\n",
       "Glen Oaks                    2\n",
       "Chelsea, Staten Island       1\n",
       "Name: neighbourhood, Length: 224, dtype: int64"
      ]
     },
     "execution_count": 95,
     "metadata": {},
     "output_type": "execute_result"
    }
   ],
   "source": [
    "df['neighbourhood'].value_counts()"
   ]
  },
  {
   "cell_type": "code",
   "execution_count": 96,
   "id": "45ba8da1",
   "metadata": {},
   "outputs": [
    {
     "data": {
      "text/plain": [
       "Bedford-Stuyvesant        7902\n",
       "Williamsburg              7720\n",
       "Harlem                    5420\n",
       "Bushwick                  4954\n",
       "Hell's Kitchen            3938\n",
       "                          ... \n",
       "Willowbrook                  3\n",
       "Gerritsen Beach              3\n",
       "Fort Wadsworth               2\n",
       "Glen Oaks                    2\n",
       "Chelsea, Staten Island       1\n",
       "Name: neighbourhood, Length: 224, dtype: int64"
      ]
     },
     "execution_count": 96,
     "metadata": {},
     "output_type": "execute_result"
    }
   ],
   "source": [
    "df['neighbourhood'].replace(np.nan, 'Bedford-Stuyvesant', inplace=True)\n",
    "df['neighbourhood'].value_counts()"
   ]
  },
  {
   "cell_type": "code",
   "execution_count": 97,
   "id": "aafbefb7",
   "metadata": {},
   "outputs": [
    {
     "data": {
      "text/plain": [
       "United States    101423\n",
       "Name: country, dtype: int64"
      ]
     },
     "execution_count": 97,
     "metadata": {},
     "output_type": "execute_result"
    }
   ],
   "source": [
    "df['country'].value_counts()"
   ]
  },
  {
   "cell_type": "code",
   "execution_count": 98,
   "id": "abce9e9b",
   "metadata": {},
   "outputs": [
    {
     "data": {
      "text/plain": [
       "United States    101949\n",
       "Name: country, dtype: int64"
      ]
     },
     "execution_count": 98,
     "metadata": {},
     "output_type": "execute_result"
    }
   ],
   "source": [
    "df['country'].replace(np.nan, 'United States', inplace=True)\n",
    "df['country'].value_counts()"
   ]
  },
  {
   "cell_type": "code",
   "execution_count": 99,
   "id": "2ddd476d",
   "metadata": {},
   "outputs": [
    {
     "data": {
      "text/plain": [
       "US    101827\n",
       "Name: country code, dtype: int64"
      ]
     },
     "execution_count": 99,
     "metadata": {},
     "output_type": "execute_result"
    }
   ],
   "source": [
    "df['country code'].value_counts()"
   ]
  },
  {
   "cell_type": "code",
   "execution_count": 103,
   "id": "ad3a90f3",
   "metadata": {},
   "outputs": [
    {
     "data": {
      "text/plain": [
       "US    101949\n",
       "Name: country code, dtype: int64"
      ]
     },
     "execution_count": 103,
     "metadata": {},
     "output_type": "execute_result"
    }
   ],
   "source": [
    "df['country code'].replace(np.nan, 'US', inplace=True)\n",
    "df['country code'].value_counts()"
   ]
  },
  {
   "cell_type": "code",
   "execution_count": 105,
   "id": "587c4dca",
   "metadata": {},
   "outputs": [
    {
     "data": {
      "text/plain": [
       "0         False\n",
       "1         False\n",
       "2          True\n",
       "3         False\n",
       "4          True\n",
       "          ...  \n",
       "101944    False\n",
       "101945     True\n",
       "101946     True\n",
       "101947     True\n",
       "101948    False\n",
       "Name: instant_bookable, Length: 101949, dtype: object"
      ]
     },
     "execution_count": 105,
     "metadata": {},
     "output_type": "execute_result"
    }
   ],
   "source": [
    "df['instant_bookable']"
   ]
  },
  {
   "cell_type": "code",
   "execution_count": 106,
   "id": "4d7d4a45",
   "metadata": {},
   "outputs": [
    {
     "data": {
      "text/plain": [
       "False    51156\n",
       "True     50697\n",
       "Name: instant_bookable, dtype: int64"
      ]
     },
     "execution_count": 106,
     "metadata": {},
     "output_type": "execute_result"
    }
   ],
   "source": [
    "df['instant_bookable'].value_counts()"
   ]
  },
  {
   "cell_type": "code",
   "execution_count": 108,
   "id": "e6a0bd9b",
   "metadata": {},
   "outputs": [],
   "source": [
    "df['instant_bookable'].replace(np.nan, 'False', inplace=True)\n"
   ]
  },
  {
   "cell_type": "code",
   "execution_count": 110,
   "id": "e1ce7df4",
   "metadata": {},
   "outputs": [
    {
     "data": {
      "text/plain": [
       "moderate    34126\n",
       "strict      33885\n",
       "flexible    33868\n",
       "Name: cancellation_policy, dtype: int64"
      ]
     },
     "execution_count": 110,
     "metadata": {},
     "output_type": "execute_result"
    }
   ],
   "source": [
    "df['cancellation_policy'].value_counts()"
   ]
  },
  {
   "cell_type": "code",
   "execution_count": 111,
   "id": "8c54d106",
   "metadata": {},
   "outputs": [
    {
     "data": {
      "text/plain": [
       "moderate    34196\n",
       "strict      33885\n",
       "flexible    33868\n",
       "Name: cancellation_policy, dtype: int64"
      ]
     },
     "execution_count": 111,
     "metadata": {},
     "output_type": "execute_result"
    }
   ],
   "source": [
    "df['cancellation_policy'].replace(np.nan, 'moderate', inplace = True)"
   ]
  },
  {
   "cell_type": "code",
   "execution_count": 113,
   "id": "3e55193e",
   "metadata": {},
   "outputs": [
    {
     "data": {
      "text/plain": [
       "0         2020.0\n",
       "1         2007.0\n",
       "2         2005.0\n",
       "3         2009.0\n",
       "4         2013.0\n",
       "           ...  \n",
       "101944    2003.0\n",
       "101945    2016.0\n",
       "101946    2009.0\n",
       "101947    2015.0\n",
       "101948    2010.0\n",
       "Name: Construction year, Length: 101949, dtype: float64"
      ]
     },
     "execution_count": 113,
     "metadata": {},
     "output_type": "execute_result"
    }
   ],
   "source": [
    "df['Construction year']"
   ]
  },
  {
   "cell_type": "code",
   "execution_count": 114,
   "id": "7850506f",
   "metadata": {},
   "outputs": [
    {
     "name": "stdout",
     "output_type": "stream",
     "text": [
      "2012.486314361812\n"
     ]
    }
   ],
   "source": [
    "avg_constr = df['Construction year'].astype('float').mean(axis=0)\n",
    "print(avg_constr)"
   ]
  },
  {
   "cell_type": "code",
   "execution_count": 115,
   "id": "b80b4d57",
   "metadata": {},
   "outputs": [],
   "source": [
    "df['Construction year'].replace(np.nan, avg_constr, inplace=True)"
   ]
  },
  {
   "cell_type": "code",
   "execution_count": 121,
   "id": "3ec1d2db",
   "metadata": {},
   "outputs": [
    {
     "data": {
      "text/plain": [
       "0           $966 \n",
       "1           $142 \n",
       "2           $620 \n",
       "3           $204 \n",
       "4           $577 \n",
       "           ...   \n",
       "101705      $844 \n",
       "101706      $837 \n",
       "101707      $988 \n",
       "101708      $546 \n",
       "101709    $1,032 \n",
       "Name: price, Length: 101710, dtype: object"
      ]
     },
     "execution_count": 121,
     "metadata": {},
     "output_type": "execute_result"
    }
   ],
   "source": [
    "df.dropna(subset=[\"price\"], axis=0, inplace=True)\n",
    "df['price']"
   ]
  },
  {
   "cell_type": "code",
   "execution_count": null,
   "id": "534f3c7e",
   "metadata": {},
   "outputs": [],
   "source": [
    "#Removing the dollar sign before the integer\n",
    "df[['price']]=df[['price']].replace('[\\$]','', regex = True)\n",
    "df['price']"
   ]
  },
  {
   "cell_type": "code",
   "execution_count": 123,
   "id": "2c9f25f3",
   "metadata": {},
   "outputs": [
    {
     "data": {
      "text/plain": [
       "0         $193 \n",
       "1          $28 \n",
       "2         $124 \n",
       "3          $41 \n",
       "4         $115 \n",
       "          ...  \n",
       "101705    $169 \n",
       "101706    $167 \n",
       "101707    $198 \n",
       "101708    $109 \n",
       "101709    $206 \n",
       "Name: service fee, Length: 101710, dtype: object"
      ]
     },
     "execution_count": 123,
     "metadata": {},
     "output_type": "execute_result"
    }
   ],
   "source": [
    "df['service fee']"
   ]
  },
  {
   "cell_type": "code",
   "execution_count": 130,
   "id": "f5477622",
   "metadata": {},
   "outputs": [
    {
     "data": {
      "text/plain": [
       "0         193 \n",
       "1          28 \n",
       "2         124 \n",
       "3          41 \n",
       "4         115 \n",
       "          ... \n",
       "101705    169 \n",
       "101706    167 \n",
       "101707    198 \n",
       "101708    109 \n",
       "101709    206 \n",
       "Name: service fee, Length: 101710, dtype: object"
      ]
     },
     "execution_count": 130,
     "metadata": {},
     "output_type": "execute_result"
    }
   ],
   "source": [
    "#Removing the dollar sign before the integer\n",
    "df[['service fee']]=df[['service fee']].replace('[\\$]','', regex = True)\n",
    "df['service fee']"
   ]
  },
  {
   "cell_type": "code",
   "execution_count": 131,
   "id": "15422547",
   "metadata": {},
   "outputs": [
    {
     "name": "stdout",
     "output_type": "stream",
     "text": [
      "125.04145026657862\n"
     ]
    }
   ],
   "source": [
    "avg_servfee = df['service fee'].astype('float').mean(axis=0)\n",
    "print(avg_servfee)"
   ]
  },
  {
   "cell_type": "code",
   "execution_count": 132,
   "id": "7156ad90",
   "metadata": {},
   "outputs": [],
   "source": [
    "df['service fee'].replace(np.nan, avg_servfee, inplace = True)"
   ]
  },
  {
   "cell_type": "code",
   "execution_count": 135,
   "id": "ac47f54a",
   "metadata": {},
   "outputs": [
    {
     "data": {
      "text/plain": [
       "1.0      25199\n",
       "2.0      23412\n",
       "3.0      15981\n",
       "30.0     11540\n",
       "4.0       6569\n",
       "         ...  \n",
       "74.0         1\n",
       "198.0        1\n",
       "43.0         1\n",
       "160.0        1\n",
       "825.0        1\n",
       "Name: minimum nights, Length: 151, dtype: int64"
      ]
     },
     "execution_count": 135,
     "metadata": {},
     "output_type": "execute_result"
    }
   ],
   "source": [
    "df['minimum nights'].value_counts()"
   ]
  },
  {
   "cell_type": "code",
   "execution_count": 136,
   "id": "5c53afc5",
   "metadata": {},
   "outputs": [
    {
     "name": "stdout",
     "output_type": "stream",
     "text": [
      "8.112410790962125\n"
     ]
    }
   ],
   "source": [
    "avg_min_nights = df['minimum nights'].astype('float').mean(axis=0)\n",
    "print(avg_min_nights)"
   ]
  },
  {
   "cell_type": "code",
   "execution_count": 137,
   "id": "d24e24da",
   "metadata": {},
   "outputs": [],
   "source": [
    "df['minimum nights'].replace(np.nan, avg_min_nights, inplace=True)"
   ]
  },
  {
   "cell_type": "code",
   "execution_count": 139,
   "id": "e8dd65cd",
   "metadata": {},
   "outputs": [
    {
     "data": {
      "text/plain": [
       "0          9.0\n",
       "1         45.0\n",
       "2          0.0\n",
       "3          9.0\n",
       "4         74.0\n",
       "          ... \n",
       "101705     0.0\n",
       "101706     1.0\n",
       "101707     0.0\n",
       "101708     5.0\n",
       "101709     0.0\n",
       "Name: number of reviews, Length: 101710, dtype: float64"
      ]
     },
     "execution_count": 139,
     "metadata": {},
     "output_type": "execute_result"
    }
   ],
   "source": [
    "df['number of reviews']"
   ]
  },
  {
   "cell_type": "code",
   "execution_count": 140,
   "id": "21e1ff9c",
   "metadata": {},
   "outputs": [
    {
     "name": "stdout",
     "output_type": "stream",
     "text": [
      "27.482773225120162\n"
     ]
    }
   ],
   "source": [
    "avg_min_rev = df['number of reviews'].astype('float').mean(axis=0)\n",
    "print(avg_min_rev)"
   ]
  },
  {
   "cell_type": "code",
   "execution_count": 141,
   "id": "990126fa",
   "metadata": {},
   "outputs": [],
   "source": [
    "df['number of reviews'].replace(np.nan, avg_min_rev, inplace=True)"
   ]
  },
  {
   "cell_type": "code",
   "execution_count": 146,
   "id": "f9979edc",
   "metadata": {},
   "outputs": [
    {
     "data": {
      "text/plain": [
       "0.03     1662\n",
       "0.05     1467\n",
       "1.00     1446\n",
       "0.04     1265\n",
       "0.09     1248\n",
       "         ... \n",
       "9.23        1\n",
       "9.10        1\n",
       "10.36       1\n",
       "8.50        1\n",
       "33.08       1\n",
       "Name: reviews per month, Length: 1015, dtype: int64"
      ]
     },
     "execution_count": 146,
     "metadata": {},
     "output_type": "execute_result"
    }
   ],
   "source": [
    "df['reviews per month'].value_counts()"
   ]
  },
  {
   "cell_type": "code",
   "execution_count": 147,
   "id": "714eff7a",
   "metadata": {},
   "outputs": [
    {
     "name": "stdout",
     "output_type": "stream",
     "text": [
      "1.3760210763844463\n"
     ]
    }
   ],
   "source": [
    "avg_rev_permon = df['reviews per month'].astype('float').mean(axis=0)\n",
    "print(avg_rev_permon)"
   ]
  },
  {
   "cell_type": "code",
   "execution_count": 148,
   "id": "77aa3d3d",
   "metadata": {},
   "outputs": [],
   "source": [
    "df['reviews per month'].replace(np.nan, avg_rev_permon, inplace=True)"
   ]
  },
  {
   "cell_type": "code",
   "execution_count": 151,
   "id": "1d62a972",
   "metadata": {},
   "outputs": [
    {
     "data": {
      "text/plain": [
       "0         4.0\n",
       "1         4.0\n",
       "2         5.0\n",
       "3         3.0\n",
       "4         3.0\n",
       "         ... \n",
       "101705    3.0\n",
       "101706    2.0\n",
       "101707    5.0\n",
       "101708    3.0\n",
       "101709    3.0\n",
       "Name: review rate number, Length: 101710, dtype: float64"
      ]
     },
     "execution_count": 151,
     "metadata": {},
     "output_type": "execute_result"
    }
   ],
   "source": [
    "df['review rate number']"
   ]
  },
  {
   "cell_type": "code",
   "execution_count": 152,
   "id": "88c4059b",
   "metadata": {},
   "outputs": [
    {
     "name": "stdout",
     "output_type": "stream",
     "text": [
      "3.279005088958144\n"
     ]
    }
   ],
   "source": [
    "avg_rev_rate = df['review rate number'].astype('float').mean(axis=0)\n",
    "print(avg_rev_rate)"
   ]
  },
  {
   "cell_type": "code",
   "execution_count": 153,
   "id": "3d9ccd50",
   "metadata": {},
   "outputs": [],
   "source": [
    "df['review rate number'].replace(np.nan, avg_rev_rate, inplace=True)"
   ]
  },
  {
   "cell_type": "code",
   "execution_count": 154,
   "id": "de7bdf6d",
   "metadata": {},
   "outputs": [
    {
     "data": {
      "text/plain": [
       "0         6.0\n",
       "1         2.0\n",
       "2         1.0\n",
       "3         1.0\n",
       "4         1.0\n",
       "         ... \n",
       "101705    1.0\n",
       "101706    2.0\n",
       "101707    1.0\n",
       "101708    1.0\n",
       "101709    1.0\n",
       "Name: calculated host listings count, Length: 101710, dtype: float64"
      ]
     },
     "execution_count": 154,
     "metadata": {},
     "output_type": "execute_result"
    }
   ],
   "source": [
    "df['calculated host listings count']"
   ]
  },
  {
   "cell_type": "code",
   "execution_count": 155,
   "id": "727c74ac",
   "metadata": {},
   "outputs": [
    {
     "name": "stdout",
     "output_type": "stream",
     "text": [
      "7.938269291462837\n"
     ]
    }
   ],
   "source": [
    "avg_host_listing = df['calculated host listings count'].astype('float').mean(axis=0)\n",
    "print(avg_host_listing)"
   ]
  },
  {
   "cell_type": "code",
   "execution_count": 156,
   "id": "a652174a",
   "metadata": {},
   "outputs": [],
   "source": [
    "df['calculated host listings count'].replace(np.nan, avg_host_listing, inplace=True)"
   ]
  },
  {
   "cell_type": "code",
   "execution_count": 203,
   "id": "871a74fc",
   "metadata": {},
   "outputs": [],
   "source": [
    "df.rename(columns ={'calculated host listings count':'host_listings'}, inplace = True)"
   ]
  },
  {
   "cell_type": "code",
   "execution_count": 158,
   "id": "584e757f",
   "metadata": {},
   "outputs": [
    {
     "data": {
      "text/plain": [
       "0         286.0\n",
       "1         228.0\n",
       "2         352.0\n",
       "3         289.0\n",
       "4         374.0\n",
       "          ...  \n",
       "101705    227.0\n",
       "101706    395.0\n",
       "101707    342.0\n",
       "101708    386.0\n",
       "101709     69.0\n",
       "Name: availability 365, Length: 101710, dtype: float64"
      ]
     },
     "execution_count": 158,
     "metadata": {},
     "output_type": "execute_result"
    }
   ],
   "source": [
    "df['availability 365']  #availability of a listing 365 days in advance"
   ]
  },
  {
   "cell_type": "code",
   "execution_count": 159,
   "id": "89409a68",
   "metadata": {},
   "outputs": [
    {
     "name": "stdout",
     "output_type": "stream",
     "text": [
      "141.23042748543784\n"
     ]
    }
   ],
   "source": [
    "avg_avail365 = df['availability 365'].astype('float').mean(axis=0)\n",
    "print(avg_avail365)"
   ]
  },
  {
   "cell_type": "code",
   "execution_count": 160,
   "id": "2f482e19",
   "metadata": {},
   "outputs": [],
   "source": [
    "df['availability 365'].replace(np.nan, avg_avail365, inplace=True)"
   ]
  },
  {
   "cell_type": "code",
   "execution_count": 210,
   "id": "91716663",
   "metadata": {},
   "outputs": [],
   "source": [
    "df.rename(columns ={'availability 365':'avail_365'}, inplace = True)"
   ]
  },
  {
   "cell_type": "code",
   "execution_count": 165,
   "id": "a045adaf",
   "metadata": {},
   "outputs": [
    {
     "data": {
      "text/plain": [
       "'#NAME?'"
      ]
     },
     "execution_count": 165,
     "metadata": {},
     "output_type": "execute_result"
    }
   ],
   "source": [
    "df['house_rules'].value_counts().idxmax()"
   ]
  },
  {
   "cell_type": "code",
   "execution_count": 166,
   "id": "ee209a45",
   "metadata": {},
   "outputs": [],
   "source": [
    "df['house_rules'].replace(np.nan, 'No rules', inplace=True)"
   ]
  },
  {
   "cell_type": "code",
   "execution_count": 168,
   "id": "f261eae6",
   "metadata": {},
   "outputs": [
    {
     "data": {
      "text/plain": [
       "0         True\n",
       "1         True\n",
       "2         True\n",
       "3         True\n",
       "4         True\n",
       "          ... \n",
       "101705    True\n",
       "101706    True\n",
       "101707    True\n",
       "101708    True\n",
       "101709    True\n",
       "Name: license, Length: 101710, dtype: bool"
      ]
     },
     "execution_count": 168,
     "metadata": {},
     "output_type": "execute_result"
    }
   ],
   "source": [
    "df['license'].isnull()"
   ]
  },
  {
   "cell_type": "code",
   "execution_count": 169,
   "id": "bdb669e2",
   "metadata": {},
   "outputs": [],
   "source": [
    "df.drop('license', axis = 1, inplace = True)"
   ]
  },
  {
   "cell_type": "code",
   "execution_count": 170,
   "id": "2fe0e07d",
   "metadata": {},
   "outputs": [
    {
     "data": {
      "text/html": [
       "<div>\n",
       "<style scoped>\n",
       "    .dataframe tbody tr th:only-of-type {\n",
       "        vertical-align: middle;\n",
       "    }\n",
       "\n",
       "    .dataframe tbody tr th {\n",
       "        vertical-align: top;\n",
       "    }\n",
       "\n",
       "    .dataframe thead th {\n",
       "        text-align: right;\n",
       "    }\n",
       "</style>\n",
       "<table border=\"1\" class=\"dataframe\">\n",
       "  <thead>\n",
       "    <tr style=\"text-align: right;\">\n",
       "      <th></th>\n",
       "      <th>id</th>\n",
       "      <th>NAME</th>\n",
       "      <th>host id</th>\n",
       "      <th>host_identity_verified</th>\n",
       "      <th>host name</th>\n",
       "      <th>neighbourhood group</th>\n",
       "      <th>neighbourhood</th>\n",
       "      <th>lat</th>\n",
       "      <th>long</th>\n",
       "      <th>country</th>\n",
       "      <th>...</th>\n",
       "      <th>price</th>\n",
       "      <th>service fee</th>\n",
       "      <th>minimum nights</th>\n",
       "      <th>number of reviews</th>\n",
       "      <th>last review</th>\n",
       "      <th>reviews per month</th>\n",
       "      <th>review rate number</th>\n",
       "      <th>calculated host listings count</th>\n",
       "      <th>availability 365</th>\n",
       "      <th>house_rules</th>\n",
       "    </tr>\n",
       "  </thead>\n",
       "  <tbody>\n",
       "    <tr>\n",
       "      <th>0</th>\n",
       "      <td>False</td>\n",
       "      <td>False</td>\n",
       "      <td>False</td>\n",
       "      <td>False</td>\n",
       "      <td>False</td>\n",
       "      <td>False</td>\n",
       "      <td>False</td>\n",
       "      <td>False</td>\n",
       "      <td>False</td>\n",
       "      <td>False</td>\n",
       "      <td>...</td>\n",
       "      <td>False</td>\n",
       "      <td>False</td>\n",
       "      <td>False</td>\n",
       "      <td>False</td>\n",
       "      <td>False</td>\n",
       "      <td>False</td>\n",
       "      <td>False</td>\n",
       "      <td>False</td>\n",
       "      <td>False</td>\n",
       "      <td>False</td>\n",
       "    </tr>\n",
       "    <tr>\n",
       "      <th>1</th>\n",
       "      <td>False</td>\n",
       "      <td>False</td>\n",
       "      <td>False</td>\n",
       "      <td>False</td>\n",
       "      <td>False</td>\n",
       "      <td>False</td>\n",
       "      <td>False</td>\n",
       "      <td>False</td>\n",
       "      <td>False</td>\n",
       "      <td>False</td>\n",
       "      <td>...</td>\n",
       "      <td>False</td>\n",
       "      <td>False</td>\n",
       "      <td>False</td>\n",
       "      <td>False</td>\n",
       "      <td>False</td>\n",
       "      <td>False</td>\n",
       "      <td>False</td>\n",
       "      <td>False</td>\n",
       "      <td>False</td>\n",
       "      <td>False</td>\n",
       "    </tr>\n",
       "    <tr>\n",
       "      <th>2</th>\n",
       "      <td>False</td>\n",
       "      <td>False</td>\n",
       "      <td>False</td>\n",
       "      <td>False</td>\n",
       "      <td>False</td>\n",
       "      <td>False</td>\n",
       "      <td>False</td>\n",
       "      <td>False</td>\n",
       "      <td>False</td>\n",
       "      <td>False</td>\n",
       "      <td>...</td>\n",
       "      <td>False</td>\n",
       "      <td>False</td>\n",
       "      <td>False</td>\n",
       "      <td>False</td>\n",
       "      <td>True</td>\n",
       "      <td>False</td>\n",
       "      <td>False</td>\n",
       "      <td>False</td>\n",
       "      <td>False</td>\n",
       "      <td>False</td>\n",
       "    </tr>\n",
       "    <tr>\n",
       "      <th>3</th>\n",
       "      <td>False</td>\n",
       "      <td>False</td>\n",
       "      <td>False</td>\n",
       "      <td>False</td>\n",
       "      <td>False</td>\n",
       "      <td>False</td>\n",
       "      <td>False</td>\n",
       "      <td>False</td>\n",
       "      <td>False</td>\n",
       "      <td>False</td>\n",
       "      <td>...</td>\n",
       "      <td>False</td>\n",
       "      <td>False</td>\n",
       "      <td>False</td>\n",
       "      <td>False</td>\n",
       "      <td>False</td>\n",
       "      <td>False</td>\n",
       "      <td>False</td>\n",
       "      <td>False</td>\n",
       "      <td>False</td>\n",
       "      <td>False</td>\n",
       "    </tr>\n",
       "    <tr>\n",
       "      <th>4</th>\n",
       "      <td>False</td>\n",
       "      <td>False</td>\n",
       "      <td>False</td>\n",
       "      <td>False</td>\n",
       "      <td>False</td>\n",
       "      <td>False</td>\n",
       "      <td>False</td>\n",
       "      <td>False</td>\n",
       "      <td>False</td>\n",
       "      <td>False</td>\n",
       "      <td>...</td>\n",
       "      <td>False</td>\n",
       "      <td>False</td>\n",
       "      <td>False</td>\n",
       "      <td>False</td>\n",
       "      <td>False</td>\n",
       "      <td>False</td>\n",
       "      <td>False</td>\n",
       "      <td>False</td>\n",
       "      <td>False</td>\n",
       "      <td>False</td>\n",
       "    </tr>\n",
       "    <tr>\n",
       "      <th>...</th>\n",
       "      <td>...</td>\n",
       "      <td>...</td>\n",
       "      <td>...</td>\n",
       "      <td>...</td>\n",
       "      <td>...</td>\n",
       "      <td>...</td>\n",
       "      <td>...</td>\n",
       "      <td>...</td>\n",
       "      <td>...</td>\n",
       "      <td>...</td>\n",
       "      <td>...</td>\n",
       "      <td>...</td>\n",
       "      <td>...</td>\n",
       "      <td>...</td>\n",
       "      <td>...</td>\n",
       "      <td>...</td>\n",
       "      <td>...</td>\n",
       "      <td>...</td>\n",
       "      <td>...</td>\n",
       "      <td>...</td>\n",
       "      <td>...</td>\n",
       "    </tr>\n",
       "    <tr>\n",
       "      <th>101705</th>\n",
       "      <td>False</td>\n",
       "      <td>False</td>\n",
       "      <td>False</td>\n",
       "      <td>False</td>\n",
       "      <td>False</td>\n",
       "      <td>False</td>\n",
       "      <td>False</td>\n",
       "      <td>False</td>\n",
       "      <td>False</td>\n",
       "      <td>False</td>\n",
       "      <td>...</td>\n",
       "      <td>False</td>\n",
       "      <td>False</td>\n",
       "      <td>False</td>\n",
       "      <td>False</td>\n",
       "      <td>True</td>\n",
       "      <td>False</td>\n",
       "      <td>False</td>\n",
       "      <td>False</td>\n",
       "      <td>False</td>\n",
       "      <td>False</td>\n",
       "    </tr>\n",
       "    <tr>\n",
       "      <th>101706</th>\n",
       "      <td>False</td>\n",
       "      <td>False</td>\n",
       "      <td>False</td>\n",
       "      <td>False</td>\n",
       "      <td>False</td>\n",
       "      <td>False</td>\n",
       "      <td>False</td>\n",
       "      <td>False</td>\n",
       "      <td>False</td>\n",
       "      <td>False</td>\n",
       "      <td>...</td>\n",
       "      <td>False</td>\n",
       "      <td>False</td>\n",
       "      <td>False</td>\n",
       "      <td>False</td>\n",
       "      <td>False</td>\n",
       "      <td>False</td>\n",
       "      <td>False</td>\n",
       "      <td>False</td>\n",
       "      <td>False</td>\n",
       "      <td>False</td>\n",
       "    </tr>\n",
       "    <tr>\n",
       "      <th>101707</th>\n",
       "      <td>False</td>\n",
       "      <td>False</td>\n",
       "      <td>False</td>\n",
       "      <td>False</td>\n",
       "      <td>False</td>\n",
       "      <td>False</td>\n",
       "      <td>False</td>\n",
       "      <td>False</td>\n",
       "      <td>False</td>\n",
       "      <td>False</td>\n",
       "      <td>...</td>\n",
       "      <td>False</td>\n",
       "      <td>False</td>\n",
       "      <td>False</td>\n",
       "      <td>False</td>\n",
       "      <td>True</td>\n",
       "      <td>False</td>\n",
       "      <td>False</td>\n",
       "      <td>False</td>\n",
       "      <td>False</td>\n",
       "      <td>False</td>\n",
       "    </tr>\n",
       "    <tr>\n",
       "      <th>101708</th>\n",
       "      <td>False</td>\n",
       "      <td>False</td>\n",
       "      <td>False</td>\n",
       "      <td>False</td>\n",
       "      <td>False</td>\n",
       "      <td>False</td>\n",
       "      <td>False</td>\n",
       "      <td>False</td>\n",
       "      <td>False</td>\n",
       "      <td>False</td>\n",
       "      <td>...</td>\n",
       "      <td>False</td>\n",
       "      <td>False</td>\n",
       "      <td>False</td>\n",
       "      <td>False</td>\n",
       "      <td>False</td>\n",
       "      <td>False</td>\n",
       "      <td>False</td>\n",
       "      <td>False</td>\n",
       "      <td>False</td>\n",
       "      <td>False</td>\n",
       "    </tr>\n",
       "    <tr>\n",
       "      <th>101709</th>\n",
       "      <td>False</td>\n",
       "      <td>False</td>\n",
       "      <td>False</td>\n",
       "      <td>False</td>\n",
       "      <td>False</td>\n",
       "      <td>False</td>\n",
       "      <td>False</td>\n",
       "      <td>False</td>\n",
       "      <td>False</td>\n",
       "      <td>False</td>\n",
       "      <td>...</td>\n",
       "      <td>False</td>\n",
       "      <td>False</td>\n",
       "      <td>False</td>\n",
       "      <td>False</td>\n",
       "      <td>True</td>\n",
       "      <td>False</td>\n",
       "      <td>False</td>\n",
       "      <td>False</td>\n",
       "      <td>False</td>\n",
       "      <td>False</td>\n",
       "    </tr>\n",
       "  </tbody>\n",
       "</table>\n",
       "<p>101710 rows × 25 columns</p>\n",
       "</div>"
      ],
      "text/plain": [
       "           id   NAME  host id  host_identity_verified  host name  \\\n",
       "0       False  False    False                   False      False   \n",
       "1       False  False    False                   False      False   \n",
       "2       False  False    False                   False      False   \n",
       "3       False  False    False                   False      False   \n",
       "4       False  False    False                   False      False   \n",
       "...       ...    ...      ...                     ...        ...   \n",
       "101705  False  False    False                   False      False   \n",
       "101706  False  False    False                   False      False   \n",
       "101707  False  False    False                   False      False   \n",
       "101708  False  False    False                   False      False   \n",
       "101709  False  False    False                   False      False   \n",
       "\n",
       "        neighbourhood group  neighbourhood    lat   long  country  ...  price  \\\n",
       "0                     False          False  False  False    False  ...  False   \n",
       "1                     False          False  False  False    False  ...  False   \n",
       "2                     False          False  False  False    False  ...  False   \n",
       "3                     False          False  False  False    False  ...  False   \n",
       "4                     False          False  False  False    False  ...  False   \n",
       "...                     ...            ...    ...    ...      ...  ...    ...   \n",
       "101705                False          False  False  False    False  ...  False   \n",
       "101706                False          False  False  False    False  ...  False   \n",
       "101707                False          False  False  False    False  ...  False   \n",
       "101708                False          False  False  False    False  ...  False   \n",
       "101709                False          False  False  False    False  ...  False   \n",
       "\n",
       "        service fee  minimum nights  number of reviews  last review  \\\n",
       "0             False           False              False        False   \n",
       "1             False           False              False        False   \n",
       "2             False           False              False         True   \n",
       "3             False           False              False        False   \n",
       "4             False           False              False        False   \n",
       "...             ...             ...                ...          ...   \n",
       "101705        False           False              False         True   \n",
       "101706        False           False              False        False   \n",
       "101707        False           False              False         True   \n",
       "101708        False           False              False        False   \n",
       "101709        False           False              False         True   \n",
       "\n",
       "        reviews per month  review rate number  calculated host listings count  \\\n",
       "0                   False               False                           False   \n",
       "1                   False               False                           False   \n",
       "2                   False               False                           False   \n",
       "3                   False               False                           False   \n",
       "4                   False               False                           False   \n",
       "...                   ...                 ...                             ...   \n",
       "101705              False               False                           False   \n",
       "101706              False               False                           False   \n",
       "101707              False               False                           False   \n",
       "101708              False               False                           False   \n",
       "101709              False               False                           False   \n",
       "\n",
       "        availability 365  house_rules  \n",
       "0                  False        False  \n",
       "1                  False        False  \n",
       "2                  False        False  \n",
       "3                  False        False  \n",
       "4                  False        False  \n",
       "...                  ...          ...  \n",
       "101705             False        False  \n",
       "101706             False        False  \n",
       "101707             False        False  \n",
       "101708             False        False  \n",
       "101709             False        False  \n",
       "\n",
       "[101710 rows x 25 columns]"
      ]
     },
     "execution_count": 170,
     "metadata": {},
     "output_type": "execute_result"
    }
   ],
   "source": [
    "df.isnull()"
   ]
  },
  {
   "cell_type": "code",
   "execution_count": 173,
   "id": "9977478b",
   "metadata": {},
   "outputs": [
    {
     "data": {
      "text/plain": [
       "6/23/2019     2428\n",
       "6/30/2019     2211\n",
       "7/1/2019      2197\n",
       "6/24/2019     1494\n",
       "7/7/2019      1139\n",
       "              ... \n",
       "3/29/2021        1\n",
       "5/24/2014        1\n",
       "12/22/2014       1\n",
       "7/10/2014        1\n",
       "10/13/2014       1\n",
       "Name: last review, Length: 2459, dtype: int64"
      ]
     },
     "execution_count": 173,
     "metadata": {},
     "output_type": "execute_result"
    }
   ],
   "source": [
    "df['last review'].value_counts()"
   ]
  },
  {
   "cell_type": "code",
   "execution_count": 184,
   "id": "9b624502",
   "metadata": {},
   "outputs": [],
   "source": [
    "df.dropna(subset = ['last review', ], axis = 0, inplace = True)\n",
    "\n",
    "# reset index, because we dropped null valued rows\n",
    "df.reset_index(drop=True, inplace=True)"
   ]
  },
  {
   "cell_type": "code",
   "execution_count": null,
   "id": "ec914c07",
   "metadata": {},
   "outputs": [],
   "source": []
  },
  {
   "cell_type": "code",
   "execution_count": null,
   "id": "c5868d4f",
   "metadata": {},
   "outputs": [],
   "source": [
    "df.drop(['lat', 'long'], axis = 1, inplace=True)"
   ]
  },
  {
   "cell_type": "code",
   "execution_count": 201,
   "id": "4bf3d086",
   "metadata": {},
   "outputs": [
    {
     "data": {
      "text/plain": [
       "id                                  int64\n",
       "NAME                               object\n",
       "host id                             int64\n",
       "host_identity_verified             object\n",
       "host name                          object\n",
       "neighbourhood group                object\n",
       "neighbourhood                      object\n",
       "country                            object\n",
       "country code                       object\n",
       "instant_bookable                   object\n",
       "cancellation_policy                object\n",
       "room type                          object\n",
       "Construction year                 float64\n",
       "price                             float64\n",
       "service fee                       float64\n",
       "minimum nights                    float64\n",
       "number of reviews                 float64\n",
       "last review                        object\n",
       "reviews per month                 float64\n",
       "review rate number                float64\n",
       "calculated host listings count    float64\n",
       "availability 365                  float64\n",
       "house_rules                        object\n",
       "dtype: object"
      ]
     },
     "execution_count": 201,
     "metadata": {},
     "output_type": "execute_result"
    }
   ],
   "source": [
    "df.dtypes"
   ]
  },
  {
   "cell_type": "code",
   "execution_count": 199,
   "id": "adcc6596",
   "metadata": {},
   "outputs": [
    {
     "data": {
      "text/plain": [
       "0         966.0\n",
       "1         142.0\n",
       "2         204.0\n",
       "3         577.0\n",
       "4          71.0\n",
       "          ...  \n",
       "85953     618.0\n",
       "85954    1139.0\n",
       "85955    1099.0\n",
       "85956     837.0\n",
       "85957     546.0\n",
       "Name: price, Length: 85958, dtype: float64"
      ]
     },
     "execution_count": 199,
     "metadata": {},
     "output_type": "execute_result"
    }
   ],
   "source": [
    "#changing the data into the correct data type format\n",
    "#Removing the dollar sign and the comma before the integer\n",
    "df[['price']]=df[['price']].replace('[\\$\\,]','', regex = True).astype('float')\n",
    "df['price']"
   ]
  },
  {
   "cell_type": "code",
   "execution_count": 200,
   "id": "d994df7d",
   "metadata": {},
   "outputs": [
    {
     "data": {
      "text/plain": [
       "0        193.0\n",
       "1         28.0\n",
       "2         41.0\n",
       "3        115.0\n",
       "4         14.0\n",
       "         ...  \n",
       "85953    124.0\n",
       "85954    228.0\n",
       "85955    220.0\n",
       "85956    167.0\n",
       "85957    109.0\n",
       "Name: service fee, Length: 85958, dtype: float64"
      ]
     },
     "execution_count": 200,
     "metadata": {},
     "output_type": "execute_result"
    }
   ],
   "source": [
    "df[['service fee']]=df[['service fee']].replace('[\\,]','', regex = True).astype('float')\n",
    "df['service fee']"
   ]
  },
  {
   "cell_type": "code",
   "execution_count": 211,
   "id": "1ef2060b",
   "metadata": {},
   "outputs": [
    {
     "data": {
      "text/html": [
       "<div>\n",
       "<style scoped>\n",
       "    .dataframe tbody tr th:only-of-type {\n",
       "        vertical-align: middle;\n",
       "    }\n",
       "\n",
       "    .dataframe tbody tr th {\n",
       "        vertical-align: top;\n",
       "    }\n",
       "\n",
       "    .dataframe thead th {\n",
       "        text-align: right;\n",
       "    }\n",
       "</style>\n",
       "<table border=\"1\" class=\"dataframe\">\n",
       "  <thead>\n",
       "    <tr style=\"text-align: right;\">\n",
       "      <th></th>\n",
       "      <th>id</th>\n",
       "      <th>NAME</th>\n",
       "      <th>host id</th>\n",
       "      <th>host_identity_verified</th>\n",
       "      <th>host name</th>\n",
       "      <th>neighbourhood group</th>\n",
       "      <th>neighbourhood</th>\n",
       "      <th>country</th>\n",
       "      <th>country code</th>\n",
       "      <th>instant_bookable</th>\n",
       "      <th>...</th>\n",
       "      <th>price</th>\n",
       "      <th>service fee</th>\n",
       "      <th>minimum nights</th>\n",
       "      <th>number of reviews</th>\n",
       "      <th>last review</th>\n",
       "      <th>reviews per month</th>\n",
       "      <th>review rate number</th>\n",
       "      <th>host_listings</th>\n",
       "      <th>avail_365</th>\n",
       "      <th>house_rules</th>\n",
       "    </tr>\n",
       "  </thead>\n",
       "  <tbody>\n",
       "    <tr>\n",
       "      <th>0</th>\n",
       "      <td>1001254</td>\n",
       "      <td>Clean &amp; quiet apt home by the park</td>\n",
       "      <td>80014485718</td>\n",
       "      <td>unconfirmed</td>\n",
       "      <td>Madaline</td>\n",
       "      <td>Brooklyn</td>\n",
       "      <td>Kensington</td>\n",
       "      <td>United States</td>\n",
       "      <td>US</td>\n",
       "      <td>False</td>\n",
       "      <td>...</td>\n",
       "      <td>966.0</td>\n",
       "      <td>193.0</td>\n",
       "      <td>10.0</td>\n",
       "      <td>9.0</td>\n",
       "      <td>10/19/2021</td>\n",
       "      <td>0.21</td>\n",
       "      <td>4.0</td>\n",
       "      <td>6.0</td>\n",
       "      <td>286.0</td>\n",
       "      <td>Clean up and treat the home the way you'd like...</td>\n",
       "    </tr>\n",
       "    <tr>\n",
       "      <th>1</th>\n",
       "      <td>1002102</td>\n",
       "      <td>Skylit Midtown Castle</td>\n",
       "      <td>52335172823</td>\n",
       "      <td>verified</td>\n",
       "      <td>Jenna</td>\n",
       "      <td>Manhattan</td>\n",
       "      <td>Midtown</td>\n",
       "      <td>United States</td>\n",
       "      <td>US</td>\n",
       "      <td>False</td>\n",
       "      <td>...</td>\n",
       "      <td>142.0</td>\n",
       "      <td>28.0</td>\n",
       "      <td>30.0</td>\n",
       "      <td>45.0</td>\n",
       "      <td>5/21/2022</td>\n",
       "      <td>0.38</td>\n",
       "      <td>4.0</td>\n",
       "      <td>2.0</td>\n",
       "      <td>228.0</td>\n",
       "      <td>Pet friendly but please confirm with me if the...</td>\n",
       "    </tr>\n",
       "    <tr>\n",
       "      <th>2</th>\n",
       "      <td>1003689</td>\n",
       "      <td>Entire Apt: Spacious Studio/Loft by central park</td>\n",
       "      <td>92037596077</td>\n",
       "      <td>verified</td>\n",
       "      <td>Lyndon</td>\n",
       "      <td>Manhattan</td>\n",
       "      <td>East Harlem</td>\n",
       "      <td>United States</td>\n",
       "      <td>US</td>\n",
       "      <td>False</td>\n",
       "      <td>...</td>\n",
       "      <td>204.0</td>\n",
       "      <td>41.0</td>\n",
       "      <td>10.0</td>\n",
       "      <td>9.0</td>\n",
       "      <td>11/19/2018</td>\n",
       "      <td>0.10</td>\n",
       "      <td>3.0</td>\n",
       "      <td>1.0</td>\n",
       "      <td>289.0</td>\n",
       "      <td>Please no smoking in the house, porch or on th...</td>\n",
       "    </tr>\n",
       "    <tr>\n",
       "      <th>3</th>\n",
       "      <td>1004098</td>\n",
       "      <td>Large Cozy 1 BR Apartment In Midtown East</td>\n",
       "      <td>45498551794</td>\n",
       "      <td>verified</td>\n",
       "      <td>Michelle</td>\n",
       "      <td>Manhattan</td>\n",
       "      <td>Murray Hill</td>\n",
       "      <td>United States</td>\n",
       "      <td>US</td>\n",
       "      <td>True</td>\n",
       "      <td>...</td>\n",
       "      <td>577.0</td>\n",
       "      <td>115.0</td>\n",
       "      <td>3.0</td>\n",
       "      <td>74.0</td>\n",
       "      <td>6/22/2019</td>\n",
       "      <td>0.59</td>\n",
       "      <td>3.0</td>\n",
       "      <td>1.0</td>\n",
       "      <td>374.0</td>\n",
       "      <td>No smoking, please, and no drugs.</td>\n",
       "    </tr>\n",
       "    <tr>\n",
       "      <th>4</th>\n",
       "      <td>1004650</td>\n",
       "      <td>BlissArtsSpace!</td>\n",
       "      <td>61300605564</td>\n",
       "      <td>unconfirmed</td>\n",
       "      <td>Alberta</td>\n",
       "      <td>Brooklyn</td>\n",
       "      <td>Bedford-Stuyvesant</td>\n",
       "      <td>United States</td>\n",
       "      <td>US</td>\n",
       "      <td>False</td>\n",
       "      <td>...</td>\n",
       "      <td>71.0</td>\n",
       "      <td>14.0</td>\n",
       "      <td>45.0</td>\n",
       "      <td>49.0</td>\n",
       "      <td>10/5/2017</td>\n",
       "      <td>0.40</td>\n",
       "      <td>5.0</td>\n",
       "      <td>1.0</td>\n",
       "      <td>224.0</td>\n",
       "      <td>Please no shoes in the house so bring slippers...</td>\n",
       "    </tr>\n",
       "  </tbody>\n",
       "</table>\n",
       "<p>5 rows × 23 columns</p>\n",
       "</div>"
      ],
      "text/plain": [
       "        id                                              NAME      host id  \\\n",
       "0  1001254                Clean & quiet apt home by the park  80014485718   \n",
       "1  1002102                             Skylit Midtown Castle  52335172823   \n",
       "2  1003689  Entire Apt: Spacious Studio/Loft by central park  92037596077   \n",
       "3  1004098         Large Cozy 1 BR Apartment In Midtown East  45498551794   \n",
       "4  1004650                                   BlissArtsSpace!  61300605564   \n",
       "\n",
       "  host_identity_verified host name neighbourhood group       neighbourhood  \\\n",
       "0            unconfirmed  Madaline            Brooklyn          Kensington   \n",
       "1               verified     Jenna           Manhattan             Midtown   \n",
       "2               verified    Lyndon           Manhattan         East Harlem   \n",
       "3               verified  Michelle           Manhattan         Murray Hill   \n",
       "4            unconfirmed   Alberta            Brooklyn  Bedford-Stuyvesant   \n",
       "\n",
       "         country country code instant_bookable  ...  price service fee  \\\n",
       "0  United States           US            False  ...  966.0       193.0   \n",
       "1  United States           US            False  ...  142.0        28.0   \n",
       "2  United States           US            False  ...  204.0        41.0   \n",
       "3  United States           US             True  ...  577.0       115.0   \n",
       "4  United States           US            False  ...   71.0        14.0   \n",
       "\n",
       "   minimum nights  number of reviews  last review  reviews per month  \\\n",
       "0            10.0                9.0   10/19/2021               0.21   \n",
       "1            30.0               45.0    5/21/2022               0.38   \n",
       "2            10.0                9.0   11/19/2018               0.10   \n",
       "3             3.0               74.0    6/22/2019               0.59   \n",
       "4            45.0               49.0    10/5/2017               0.40   \n",
       "\n",
       "   review rate number host_listings  avail_365  \\\n",
       "0                 4.0           6.0      286.0   \n",
       "1                 4.0           2.0      228.0   \n",
       "2                 3.0           1.0      289.0   \n",
       "3                 3.0           1.0      374.0   \n",
       "4                 5.0           1.0      224.0   \n",
       "\n",
       "                                         house_rules  \n",
       "0  Clean up and treat the home the way you'd like...  \n",
       "1  Pet friendly but please confirm with me if the...  \n",
       "2  Please no smoking in the house, porch or on th...  \n",
       "3                  No smoking, please, and no drugs.  \n",
       "4  Please no shoes in the house so bring slippers...  \n",
       "\n",
       "[5 rows x 23 columns]"
      ]
     },
     "execution_count": 211,
     "metadata": {},
     "output_type": "execute_result"
    }
   ],
   "source": [
    "df.head()"
   ]
  },
  {
   "cell_type": "code",
   "execution_count": 212,
   "id": "80029e74",
   "metadata": {},
   "outputs": [
    {
     "data": {
      "text/plain": [
       "0        0.077781\n",
       "1        0.062007\n",
       "2        0.078597\n",
       "3        0.101713\n",
       "4        0.060919\n",
       "           ...   \n",
       "85953    0.111504\n",
       "85954    0.036443\n",
       "85955    0.041338\n",
       "85956    0.107425\n",
       "85957    0.104977\n",
       "Name: avail, Length: 85958, dtype: float64"
      ]
     },
     "execution_count": 212,
     "metadata": {},
     "output_type": "execute_result"
    }
   ],
   "source": [
    "df['avail'] = df['avail_365']/df['avail_365'].max()\n",
    "df['avail']"
   ]
  },
  {
   "cell_type": "code",
   "execution_count": 213,
   "id": "cb7448f9",
   "metadata": {},
   "outputs": [
    {
     "data": {
      "text/plain": [
       "Text(0, 0.5, 'count')"
      ]
     },
     "execution_count": 213,
     "metadata": {},
     "output_type": "execute_result"
    },
    {
     "data": {
      "image/png": "[encoded data removed]",
      "text/plain": [
       "<Figure size 640x480 with 1 Axes>"
      ]
     },
     "metadata": {},
     "output_type": "display_data"
    }
   ],
   "source": [
    "#Binning variables\n",
    "%matplotlib inline\n",
    "import matplotlib as plt\n",
    "from matplotlib import pyplot\n",
    "plt.pyplot.hist(df[\"host_listings\"])\n",
    "\n",
    "# set x/y labels and plot title\n",
    "plt.pyplot.xlabel(\"host listings\")\n",
    "plt.pyplot.ylabel(\"count\")\n"
   ]
  },
  {
   "cell_type": "code",
   "execution_count": 215,
   "id": "7bc68547",
   "metadata": {},
   "outputs": [],
   "source": [
    "bins = np.linspace(min(df[\"host_listings\"]), max(df[\"host_listings\"]), 4)\n",
    "bins"
   ]
  },
  {
   "cell_type": "code",
   "execution_count": 216,
   "id": "d7049745",
   "metadata": {},
   "outputs": [],
   "source": [
    "group_names = ['Low', 'Medium', 'High']"
   ]
  },
  {
   "cell_type": "code",
   "execution_count": 217,
   "id": "ff52aad5",
   "metadata": {},
   "outputs": [
    {
     "data": {
      "text/html": [
       "<div>\n",
       "<style scoped>\n",
       "    .dataframe tbody tr th:only-of-type {\n",
       "        vertical-align: middle;\n",
       "    }\n",
       "\n",
       "    .dataframe tbody tr th {\n",
       "        vertical-align: top;\n",
       "    }\n",
       "\n",
       "    .dataframe thead th {\n",
       "        text-align: right;\n",
       "    }\n",
       "</style>\n",
       "<table border=\"1\" class=\"dataframe\">\n",
       "  <thead>\n",
       "    <tr style=\"text-align: right;\">\n",
       "      <th></th>\n",
       "      <th>host_listings</th>\n",
       "      <th>host_listings-binned</th>\n",
       "    </tr>\n",
       "  </thead>\n",
       "  <tbody>\n",
       "    <tr>\n",
       "      <th>0</th>\n",
       "      <td>6.0</td>\n",
       "      <td>Low</td>\n",
       "    </tr>\n",
       "    <tr>\n",
       "      <th>1</th>\n",
       "      <td>2.0</td>\n",
       "      <td>Low</td>\n",
       "    </tr>\n",
       "    <tr>\n",
       "      <th>2</th>\n",
       "      <td>1.0</td>\n",
       "      <td>Low</td>\n",
       "    </tr>\n",
       "    <tr>\n",
       "      <th>3</th>\n",
       "      <td>1.0</td>\n",
       "      <td>Low</td>\n",
       "    </tr>\n",
       "    <tr>\n",
       "      <th>4</th>\n",
       "      <td>1.0</td>\n",
       "      <td>Low</td>\n",
       "    </tr>\n",
       "    <tr>\n",
       "      <th>5</th>\n",
       "      <td>1.0</td>\n",
       "      <td>Low</td>\n",
       "    </tr>\n",
       "    <tr>\n",
       "      <th>6</th>\n",
       "      <td>1.0</td>\n",
       "      <td>Low</td>\n",
       "    </tr>\n",
       "    <tr>\n",
       "      <th>7</th>\n",
       "      <td>1.0</td>\n",
       "      <td>Low</td>\n",
       "    </tr>\n",
       "    <tr>\n",
       "      <th>8</th>\n",
       "      <td>4.0</td>\n",
       "      <td>Low</td>\n",
       "    </tr>\n",
       "    <tr>\n",
       "      <th>9</th>\n",
       "      <td>1.0</td>\n",
       "      <td>Low</td>\n",
       "    </tr>\n",
       "    <tr>\n",
       "      <th>10</th>\n",
       "      <td>3.0</td>\n",
       "      <td>Low</td>\n",
       "    </tr>\n",
       "    <tr>\n",
       "      <th>11</th>\n",
       "      <td>1.0</td>\n",
       "      <td>Low</td>\n",
       "    </tr>\n",
       "    <tr>\n",
       "      <th>12</th>\n",
       "      <td>1.0</td>\n",
       "      <td>Low</td>\n",
       "    </tr>\n",
       "    <tr>\n",
       "      <th>13</th>\n",
       "      <td>1.0</td>\n",
       "      <td>Low</td>\n",
       "    </tr>\n",
       "    <tr>\n",
       "      <th>14</th>\n",
       "      <td>1.0</td>\n",
       "      <td>Low</td>\n",
       "    </tr>\n",
       "    <tr>\n",
       "      <th>15</th>\n",
       "      <td>1.0</td>\n",
       "      <td>Low</td>\n",
       "    </tr>\n",
       "    <tr>\n",
       "      <th>16</th>\n",
       "      <td>1.0</td>\n",
       "      <td>Low</td>\n",
       "    </tr>\n",
       "    <tr>\n",
       "      <th>17</th>\n",
       "      <td>1.0</td>\n",
       "      <td>Low</td>\n",
       "    </tr>\n",
       "    <tr>\n",
       "      <th>18</th>\n",
       "      <td>6.0</td>\n",
       "      <td>Low</td>\n",
       "    </tr>\n",
       "    <tr>\n",
       "      <th>19</th>\n",
       "      <td>6.0</td>\n",
       "      <td>Low</td>\n",
       "    </tr>\n",
       "  </tbody>\n",
       "</table>\n",
       "</div>"
      ],
      "text/plain": [
       "    host_listings host_listings-binned\n",
       "0             6.0                  Low\n",
       "1             2.0                  Low\n",
       "2             1.0                  Low\n",
       "3             1.0                  Low\n",
       "4             1.0                  Low\n",
       "5             1.0                  Low\n",
       "6             1.0                  Low\n",
       "7             1.0                  Low\n",
       "8             4.0                  Low\n",
       "9             1.0                  Low\n",
       "10            3.0                  Low\n",
       "11            1.0                  Low\n",
       "12            1.0                  Low\n",
       "13            1.0                  Low\n",
       "14            1.0                  Low\n",
       "15            1.0                  Low\n",
       "16            1.0                  Low\n",
       "17            1.0                  Low\n",
       "18            6.0                  Low\n",
       "19            6.0                  Low"
      ]
     },
     "execution_count": 217,
     "metadata": {},
     "output_type": "execute_result"
    }
   ],
   "source": [
    "df['host_listings-binned'] = pd.cut(df['host_listings'], bins, labels=group_names, include_lowest=True )\n",
    "df[['host_listings','host_listings-binned']].head(20)"
   ]
  },
  {
   "cell_type": "code",
   "execution_count": 218,
   "id": "d1739444",
   "metadata": {},
   "outputs": [
    {
     "data": {
      "text/plain": [
       "Text(0, 0.5, 'count')"
      ]
     },
     "execution_count": 218,
     "metadata": {},
     "output_type": "execute_result"
    },
    {
     "data": {
      "image/png": "[encoded data removed]",
      "text/plain": [
       "<Figure size 640x480 with 1 Axes>"
      ]
     },
     "metadata": {},
     "output_type": "display_data"
    }
   ],
   "source": [
    "plt.pyplot.hist(df[\"host_listings-binned\"])\n",
    "\n",
    "# set x/y labels and plot title\n",
    "plt.pyplot.xlabel(\"host listings\")\n",
    "plt.pyplot.ylabel(\"count\")\n"
   ]
  },
  {
   "cell_type": "code",
   "execution_count": null,
   "id": "938db3cc",
   "metadata": {},
   "outputs": [],
   "source": []
  }
 ],
 "metadata": {
  "kernelspec": {
   "display_name": "Python 3 (ipykernel)",
   "language": "python",
   "name": "python3"
  },
  "language_info": {
   "codemirror_mode": {
    "name": "ipython",
    "version": 3
   },
   "file_extension": ".py",
   "mimetype": "text/x-python",
   "name": "python",
   "nbconvert_exporter": "python",
   "pygments_lexer": "ipython3",
   "version": "3.10.9"
  }
 },
 "nbformat": 4,
 "nbformat_minor": 5
}
